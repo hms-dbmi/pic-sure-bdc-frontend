{
 "cells": [
  {
   "cell_type": "markdown",
   "id": "51959e6f",
   "metadata": {},
   "source": [
    "# BioData Catalyst Data Release QA\n",
    "Validation tests in this notebook:\n",
    "1. [**Patient counts of new studies**](https://basicnotebookinstance-rl0ytn08jb87.notebook.us-east-1.sagemaker.aws/notebooks/biodatacatalyst-pic-sure/access-dashboard-metadata/biodatacatalyst_data_release_QA.ipynb#Validation:-New-study-patient-counts): Patient counts of the new studies from the integration environment are compared to the patient counts in Patient_Count_Per_Consents.csv\n",
    "2. [**Data dictionary comparison**](https://basicnotebookinstance-rl0ytn08jb87.notebook.us-east-1.sagemaker.aws/notebooks/biodatacatalyst-pic-sure/access-dashboard-metadata/biodatacatalyst_data_release_QA.ipynb#Validation:-Data-dictionary-comparison): Integration and production data dictionaries are compared to ensure complete match"
   ]
  },
  {
   "cell_type": "markdown",
   "id": "223cbacd",
   "metadata": {},
   "source": [
    "### Prerequisites\n",
    "- Developer access to the integration enviroment (token)\n",
    "- Consent value(s) of the new study (or studies) to validate (phs number)\n",
    "- Knowledge on whether a harmonized study was added"
   ]
  },
  {
   "cell_type": "markdown",
   "id": "1186cfd8",
   "metadata": {},
   "source": [
    "### Install packages"
   ]
  },
  {
   "cell_type": "code",
   "execution_count": null,
   "id": "63da60bf",
   "metadata": {
    "scrolled": true
   },
   "outputs": [],
   "source": [
    "import sys\n",
    "!{sys.executable} -m pip install --upgrade --force-reinstall git+https://github.com/hms-dbmi/pic-sure-python-client.git\n",
    "!{sys.executable} -m pip install --upgrade --force-reinstall git+https://github.com/hms-dbmi/pic-sure-python-adapter-hpds.git\n",
    "!{sys.executable} -m pip install --upgrade --force-reinstall git+https://github.com/hms-dbmi/pic-sure-biodatacatalyst-python-adapter-hpds.git\n",
    "!{sys.executable} -m pip install -r requirements.txt"
   ]
  },
  {
   "cell_type": "code",
   "execution_count": null,
   "id": "6ff3258e",
   "metadata": {},
   "outputs": [],
   "source": [
    "import json\n",
    "from pprint import pprint\n",
    "\n",
    "import pandas as pd\n",
    "import math\n",
    "\n",
    "from shutil import copyfile\n",
    "import PicSureClient\n",
    "import PicSureBdcAdapter\n",
    "\n",
    "from utils import get_full_consent_vals, compare_datadict_indices, get_topmed_and_harmonized_consents"
   ]
  },
  {
   "cell_type": "markdown",
   "id": "b46a9acf",
   "metadata": {},
   "source": [
    "### Connect to PIC-SURE\n",
    "Be sure to use the **developer token** from the **integration environment**. It is necessary to have access to all studies to validate the counts."
   ]
  },
  {
   "cell_type": "code",
   "execution_count": null,
   "id": "ab9d21f2",
   "metadata": {},
   "outputs": [],
   "source": [
    "PICSURE_network_URL = \"https://biodatacatalyst.integration.hms.harvard.edu/picsure\"\n",
    "resource_id = \"70c837be-5ffc-11eb-ae93-0242ac130002\" # Be sure to use Open Access resource id\n",
    "token_file = \"int_token.txt\"\n",
    "\n",
    "with open(token_file, \"r\") as f:\n",
    "    my_token = f.read()\n",
    "    \n",
    "client = PicSureClient.Client()\n",
    "connection = client.connect(PICSURE_network_URL, my_token, True)"
   ]
  },
  {
   "cell_type": "code",
   "execution_count": null,
   "id": "6c706aff",
   "metadata": {},
   "outputs": [],
   "source": [
    "bdc = PicSureBdcAdapter.Adapter(PICSURE_network_URL, my_token)\n",
    "dictionary = bdc.useDictionary().dictionary()\n",
    "resource = bdc.useResource(resource_id)"
   ]
  },
  {
   "cell_type": "markdown",
   "id": "64d2691a",
   "metadata": {},
   "source": [
    "## Validation: New study patient counts\n",
    "The purpose of this section is to validate the patient counts for newly ingested studies."
   ]
  },
  {
   "cell_type": "markdown",
   "id": "99ca24f3",
   "metadata": {},
   "source": [
    "### Specify the new study (or studies) to be tested\n",
    "To validate the new studies ingested, specify the phs numbers in the cell below without the consent group. \n",
    "For example, if the study of interest is the AMISH study, list `phs000956` below (*not* `phs000956.c1`)."
   ]
  },
  {
   "cell_type": "code",
   "execution_count": null,
   "id": "c34e4be9",
   "metadata": {},
   "outputs": [],
   "source": [
    "# to_validate = ['list', 'phs_numbers', 'here']\n",
    "to_validate = ['phs002694', #ACTIV4a,\n",
    "               'phs002710', #ACTIV4b\n",
    "               'phs002752' #C3PO\n",
    "              ]\n",
    "\n",
    "to_validate_topmed, to_validate_harmonized = get_topmed_and_harmonized_consents(to_validate)"
   ]
  },
  {
   "cell_type": "markdown",
   "id": "7c9e0a9a",
   "metadata": {},
   "source": [
    "### Get patient count file from S3 bucket\n",
    "This notebook uses `Patient_Count_Per_Consents.csv` from the S3 bucket as the reference file. First we need to copy this file over to this directory."
   ]
  },
  {
   "cell_type": "code",
   "execution_count": null,
   "id": "66321add",
   "metadata": {},
   "outputs": [],
   "source": [
    "src = '/home/ec2-user/SageMaker/studies/ALL-avillach-73-bdcatalyst-etl/general/completed/Patient_Count_Per_Consents.csv'\n",
    "dst = '/home/ec2-user/SageMaker/biodatacatalyst-pic-sure/access-dashboard-metadata/Patient_Count_Per_Consents.csv'\n",
    "#copyfile(src, dst)"
   ]
  },
  {
   "cell_type": "code",
   "execution_count": null,
   "id": "7dd926f1",
   "metadata": {},
   "outputs": [],
   "source": [
    "# Load S3 file as a dataframe in the Jupyter Notebook\n",
    "patient_ref_file = pd.read_csv('Patient_Count_Per_Consents.csv', header=None, names=['consent', 'patient_count'])\n",
    "patient_ref_file"
   ]
  },
  {
   "cell_type": "code",
   "execution_count": null,
   "id": "3123b22e",
   "metadata": {},
   "outputs": [],
   "source": [
    "# Extract the consent groups based on the user-identified phs values\n",
    "full_phs = get_full_consent_vals(to_validate, patient_ref_file)\n",
    "full_phs"
   ]
  },
  {
   "cell_type": "markdown",
   "id": "d37c1e26",
   "metadata": {},
   "source": [
    "### Get patient count for the specified consent groups\n",
    "Now the consent groups will be used to find the patient counts currently in the integration environment."
   ]
  },
  {
   "cell_type": "code",
   "execution_count": null,
   "id": "8622b02d",
   "metadata": {},
   "outputs": [],
   "source": [
    "# Start a new query and initialize output dictionary\n",
    "patient_count_query = resource.query()\n",
    "output = {}\n",
    "\n",
    "\n",
    "for consentGroup in full_phs:\n",
    "    print(consentGroup)\n",
    "    patient_count_query.filter().delete(\"\\\\_consents\\\\\") # Delete all consents\n",
    "    patient_count_query.filter().add(\"\\\\_consents\\\\\", consentGroup) # Add back consent group of interest\n",
    "    patient_count_query.show()\n",
    "    patient_count = patient_count_query.getCount() # Get patient count\n",
    "    output[consentGroup] = patient_count # Add to output"
   ]
  },
  {
   "cell_type": "code",
   "execution_count": null,
   "id": "2d73b321",
   "metadata": {},
   "outputs": [],
   "source": [
    "output"
   ]
  },
  {
   "cell_type": "markdown",
   "id": "d0e53de0",
   "metadata": {},
   "source": [
    "### Compare the values to the reference file\n",
    "Finally we will compare the values from the reference file to the counts in the integration environment."
   ]
  },
  {
   "cell_type": "code",
   "execution_count": null,
   "id": "f347fd88",
   "metadata": {},
   "outputs": [],
   "source": [
    "for consent_val in output.keys():\n",
    "    ref_count = int(patient_ref_file[patient_ref_file['consent'] == consent_val]['patient_count']) # Count from reference file\n",
    "    integration_count = output[consent_val] # Count from integration environment\n",
    "    # Display result message\n",
    "    if ref_count == integration_count:\n",
    "        print(consent_val, \"passes validation\")\n",
    "    else:\n",
    "        print('***DID NOT PASS VALIDATION:', consent_val)\n",
    "        print('Expected count from Patient_Count_Per_Consents.csv:\\t', ref_count)\n",
    "        print('Count retrieved from integration environment:\\t', integration_count)"
   ]
  },
  {
   "cell_type": "markdown",
   "id": "29f15469",
   "metadata": {},
   "source": [
    "## Validation: Data dictionary comparison\n",
    "The purpose of this section is to compare the data dictionaries of the production and integration environments. These data dictionaries should be identical besides the studies that are being loaded and/or updated."
   ]
  },
  {
   "cell_type": "markdown",
   "id": "9ffa72a3",
   "metadata": {},
   "source": [
    "### Establish connection to production environment"
   ]
  },
  {
   "cell_type": "code",
   "execution_count": null,
   "id": "1b4e2f5c",
   "metadata": {},
   "outputs": [],
   "source": [
    "prod_PICSURE_network_URL = \"https://picsure.biodatacatalyst.nhlbi.nih.gov/picsure\" \n",
    "prod_resource_id = \"70c837be-5ffc-11eb-ae93-0242ac130002\" # Be sure to use Open Access resource id\n",
    "prod_token_file = \"prod_token.txt\"\n",
    "\n",
    "with open(prod_token_file, \"r\") as f:\n",
    "    prod_token = f.read()\n",
    "    \n",
    "prod_client = PicSureClient.Client()\n",
    "prod_connection = prod_client.connect(prod_PICSURE_network_URL, prod_token, True)"
   ]
  },
  {
   "cell_type": "code",
   "execution_count": null,
   "id": "88ba5b53",
   "metadata": {},
   "outputs": [],
   "source": [
    "prod_bdc = PicSureBdcAdapter.Adapter(prod_PICSURE_network_URL, prod_token)\n",
    "prod_resource = prod_bdc.useResource(prod_resource_id)"
   ]
  },
  {
   "cell_type": "markdown",
   "id": "2f1aa986",
   "metadata": {},
   "source": [
    "### Load data dictionaries\n",
    "Next we will load the data dictionaries from the integration and production environments as dataframes. These will be used to compare the environments."
   ]
  },
  {
   "cell_type": "code",
   "execution_count": null,
   "id": "7161fc56",
   "metadata": {},
   "outputs": [],
   "source": [
    "int_dictionary = bdc.useDictionary().dictionary()\n",
    "prod_dictionary = prod_bdc.useDictionary().dictionary()"
   ]
  },
  {
   "cell_type": "code",
   "execution_count": null,
   "id": "cc5a47b6",
   "metadata": {},
   "outputs": [],
   "source": [
    "integ = int_dictionary.find().dataframe()"
   ]
  },
  {
   "cell_type": "code",
   "execution_count": null,
   "id": "621e2c8f",
   "metadata": {},
   "outputs": [],
   "source": [
    "prod = prod_dictionary.find().dataframe()"
   ]
  },
  {
   "cell_type": "markdown",
   "id": "5084353f",
   "metadata": {},
   "source": [
    "### Compare dictionaries\n",
    "The following comparisons will be made between the dictionaries:\n",
    "1. Find concept paths that exist in integration, but not production\n",
    "2. Find concept paths that exist in production, but not integration\n",
    "3. Identify differences in the dataframe between integration and production"
   ]
  },
  {
   "cell_type": "markdown",
   "id": "e90f9c4e",
   "metadata": {},
   "source": [
    "The first comparisons use the concept paths, which we will extract and compare now."
   ]
  },
  {
   "cell_type": "code",
   "execution_count": null,
   "id": "f919ea10",
   "metadata": {},
   "outputs": [],
   "source": [
    "first_comparison = compare_datadict_indices(integ, prod, 1, to_validate)"
   ]
  },
  {
   "cell_type": "code",
   "execution_count": null,
   "id": "3567f71d",
   "metadata": {},
   "outputs": [],
   "source": [
    "second_comparison = compare_datadict_indices(prod, integ, 2)"
   ]
  },
  {
   "cell_type": "markdown",
   "id": "206c0a11",
   "metadata": {},
   "source": [
    "The third comparison compares the data in the data dictionary. The following function iterates through each row of the data dictionary and compares the integration and production results."
   ]
  },
  {
   "cell_type": "code",
   "execution_count": null,
   "id": "cfd43a89",
   "metadata": {},
   "outputs": [],
   "source": [
    "harmonized = get_full_consent_vals(to_validate_harmonized, patient_ref_file)\n",
    "topmed = get_full_consent_vals(to_validate_topmed, patient_ref_file)"
   ]
  },
  {
   "cell_type": "code",
   "execution_count": null,
   "id": "d45daaae",
   "metadata": {},
   "outputs": [],
   "source": [
    "# Method to Compare Data Dictionaries"
   ]
  },
  {
   "cell_type": "code",
   "execution_count": null,
   "id": "d45caf94",
   "metadata": {},
   "outputs": [],
   "source": [
    "# 1) remove rows from integ that contain variables from the user supplied phs (to_validate)\n",
    "\n",
    "# only run if checking studies that are ONLY in integration\n",
    "\n",
    "for phs in to_validate:\n",
    "    print(phs)\n",
    "    integ = integ[integ[\"studyId\"].str.contains(phs)==False]"
   ]
  },
  {
   "cell_type": "code",
   "execution_count": null,
   "id": "e2747853",
   "metadata": {},
   "outputs": [],
   "source": [
    "# 2) if # of harmonized studies in prod and integ are different,\n",
    "# remove rows containing DCC Harmonized (however that is listed) in BOTH prod and integ\n",
    "# Get the expected differences in patient counts for each group\n",
    "\n",
    "diff_total = patient_ref_file[patient_ref_file['consent'].isin(full_phs)].sum()['patient_count']\n",
    "\n",
    "if len(harmonized)>0:\n",
    "    #harmonized_diff_total = patient_ref_file[patient_ref_file['consent'].isin(harmonized)].sum()['patient_count']\n",
    "    integ = integ[integ[\"studyId\"].str.contains(\"DCC Harmonized data set\")==False]\n",
    "    prod = prod[prod[\"studyId\"].str.contains(\"DCC Harmonized data set\")==False]\n",
    "    "
   ]
  },
  {
   "cell_type": "code",
   "execution_count": null,
   "id": "8c1868df",
   "metadata": {},
   "outputs": [],
   "source": [
    "# 3) ensure column order is the same and concept path columns contain the same data\n",
    "if False in (prod.columns == integ.columns):\n",
    "    print(\"Columns in integration and production are different\")"
   ]
  },
  {
   "cell_type": "code",
   "execution_count": null,
   "id": "b2aeb5bd",
   "metadata": {},
   "outputs": [],
   "source": [
    "# 4) order the dataframes by concept path column\n",
    "#    check if the studyId columns are equal before moving forward\n",
    "prod = prod.sort_values(\"studyId\")\n",
    "print(\"prod sorted\")\n",
    "integ = integ.sort_values(\"studyId\")\n",
    "print(\"integ sorted\")\n",
    "\n",
    "integ = integ.reset_index()\n",
    "prod = prod.reset_index()\n",
    "\n",
    "\n",
    "if(prod[\"studyId\"].equals(integ[\"studyId\"])):\n",
    "    print(\"Study Id columns are identical, continue with QA\")\n",
    "else:\n",
    "    print(\"Study Id columns are not the same, investigate why\")"
   ]
  },
  {
   "cell_type": "code",
   "execution_count": null,
   "id": "717ce53e",
   "metadata": {},
   "outputs": [],
   "source": [
    "# 5) Compare all fields of the Data Dictionaries\n",
    "diff = integ.compare(prod)\n",
    "\n",
    "if len(diff) == 0:\n",
    "    print(\"integration and Production Data Dictionaries are identical\")\n",
    "else:\n",
    "    diff"
   ]
  },
  {
   "cell_type": "code",
   "execution_count": null,
   "id": "94885c92",
   "metadata": {},
   "outputs": [],
   "source": []
  },
  {
   "cell_type": "code",
   "execution_count": null,
   "id": "cb915513",
   "metadata": {},
   "outputs": [],
   "source": [
    "# IGNORE for now\n",
    "# For next QA process:\n",
    "# Run counts for each value under _studies_consents - compare between Integration and Production\n",
    "\n",
    "# Do patient counts for the following, if there is a change, be able to explain:\n",
    "# All _studies have values for _studies_consents and _consents (_parent_consents, _topmed_consents)\n",
    "# All top-level paths for studies have values in _consents and _studies_consents and _studies (_parent_consents, _topmed_consents)\n",
    "\n",
    "\n",
    "\n",
    "# Create a table for each environment\n",
    "# Compare the tables"
   ]
  }
 ],
 "metadata": {
  "kernelspec": {
   "display_name": "conda_python3",
   "language": "python",
   "name": "conda_python3"
  },
  "language_info": {
   "codemirror_mode": {
    "name": "ipython",
    "version": 3
   },
   "file_extension": ".py",
   "mimetype": "text/x-python",
   "name": "python",
   "nbconvert_exporter": "python",
   "pygments_lexer": "ipython3",
   "version": "3.6.13"
  }
 },
 "nbformat": 4,
 "nbformat_minor": 5
}
