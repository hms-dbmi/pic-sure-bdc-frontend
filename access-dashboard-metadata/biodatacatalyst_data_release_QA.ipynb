{
 "cells": [
  {
   "cell_type": "markdown",
   "id": "841106c5",
   "metadata": {},
   "source": [
    "# BioData Catalyst Data Release QA\n",
    "Validation tests in this notebook:\n",
    "1. [**Patient counts of new studies**](https://basicnotebookinstance-rl0ytn08jb87.notebook.us-east-1.sagemaker.aws/notebooks/biodatacatalyst-pic-sure/access-dashboard-metadata/biodatacatalyst_data_release_QA.ipynb#Validation:-New-study-patient-counts): Patient counts of the new studies from the integration environment are compared to the patient counts in Patient_Count_Per_Consents.csv\n",
    "2. [**Data dictionary comparison**](https://basicnotebookinstance-rl0ytn08jb87.notebook.us-east-1.sagemaker.aws/notebooks/biodatacatalyst-pic-sure/access-dashboard-metadata/biodatacatalyst_data_release_QA.ipynb#Validation:-Data-dictionary-comparison): Integration and production data dictionaries are compared to ensure complete match"
   ]
  },
  {
   "cell_type": "markdown",
   "id": "031f8fb0",
   "metadata": {},
   "source": [
    "### Prerequisites\n",
    "- Developer access to the integration enviroment (token)\n",
    "- Consent value(s) of the new study (or studies) to validate (phs number)\n",
    "- Knowledge on whether a harmonized study was added"
   ]
  },
  {
   "cell_type": "markdown",
   "id": "cbf7cadf",
   "metadata": {},
   "source": [
    "### Install packages"
   ]
  },
  {
   "cell_type": "code",
   "execution_count": null,
   "id": "f33c2e7b",
   "metadata": {
    "scrolled": true
   },
   "outputs": [],
   "source": [
    "import sys\n",
    "!{sys.executable} -m pip install --upgrade --force-reinstall git+https://github.com/hms-dbmi/pic-sure-python-client.git\n",
    "!{sys.executable} -m pip install --upgrade --force-reinstall git+https://github.com/hms-dbmi/pic-sure-python-adapter-hpds.git\n",
    "!{sys.executable} -m pip install --upgrade --force-reinstall git+https://github.com/hms-dbmi/pic-sure-biodatacatalyst-python-adapter-hpds.git\n",
    "!{sys.executable} -m pip install -r requirements.txt"
   ]
  },
  {
   "cell_type": "code",
   "execution_count": null,
   "id": "81b1c8be",
   "metadata": {},
   "outputs": [],
   "source": [
    "import json\n",
    "from pprint import pprint\n",
    "\n",
    "import pandas as pd\n",
    "import math\n",
    "\n",
    "from shutil import copyfile\n",
    "import PicSureClient\n",
    "import PicSureBdcAdapter\n",
    "\n",
    "from utils import get_full_consent_vals, compare_datadict_indices, compare_datadicts"
   ]
  },
  {
   "cell_type": "markdown",
   "id": "ad38b4cb",
   "metadata": {},
   "source": [
    "### Connect to PIC-SURE\n",
    "Be sure to use the **developer token** from the **integration environment**. It is necessary to have access to all studies to validate the counts."
   ]
  },
  {
   "cell_type": "code",
   "execution_count": null,
   "id": "4344894f",
   "metadata": {},
   "outputs": [],
   "source": [
    "integration_PICSURE_network_URL = \"https://biodatacatalyst.integration.hms.harvard.edu/picsure\"\n",
    "int_resource_id = \"02e23f52-f354-4e8b-992c-d37c8b9ba140\"\n",
    "integration_token_file = \"token.txt\""
   ]
  },
  {
   "cell_type": "code",
   "execution_count": null,
   "id": "452e5216",
   "metadata": {},
   "outputs": [],
   "source": [
    "with open(integration_token_file, \"r\") as f:\n",
    "    my_int_token = f.read()"
   ]
  },
  {
   "cell_type": "code",
   "execution_count": null,
   "id": "17095bf2",
   "metadata": {},
   "outputs": [],
   "source": [
    "int_client = PicSureClient.Client()\n",
    "int_connection = int_client.connect(integration_PICSURE_network_URL, my_int_token, True)\n",
    "int_adapter = PicSureBdcAdapter.Adapter(int_connection)\n",
    "int_resource = int_adapter.useResource(int_resource_id)"
   ]
  },
  {
   "cell_type": "markdown",
   "id": "3ffb1e83",
   "metadata": {},
   "source": [
    "## Validation: New study patient counts\n",
    "The purpose of this section is to validate the patient counts for newly ingested studies."
   ]
  },
  {
   "cell_type": "markdown",
   "id": "47f69bbe",
   "metadata": {},
   "source": [
    "### Specify the new study (or studies) to be tested\n",
    "To validate the new studies ingested, specify the phs numbers in the cell below without the consent group. \n",
    "For example, if the study of interest is the AMISH study, list `phs000956` below (*not* `phs000956.c1`)."
   ]
  },
  {
   "cell_type": "code",
   "execution_count": null,
   "id": "335a8cf6",
   "metadata": {},
   "outputs": [],
   "source": [
    "#to_validate = ['list', 'phs_numbers', 'here']\n",
    "to_validate = ['phs000285', #CARDIA,\n",
    "               'phs000703', #CATHGEN\n",
    "               'phs001194', #PCGC\n",
    "               'phs000810', #HCHS-SOL\n",
    "               'phs001252' #ECLIPSE\n",
    "              ]\n",
    "to_validate_harmonized = ['phs000285', #CARDIA\n",
    "                          'phs000810' #HCHS-SOL\n",
    "                         ]\n",
    "\n",
    "to_validate_topmed = []"
   ]
  },
  {
   "cell_type": "markdown",
   "id": "61c25d60",
   "metadata": {},
   "source": [
    "### Get patient count file from S3 bucket\n",
    "This notebook uses `Patient_Count_Per_Consents.csv` from the S3 bucket as the reference file. First we need to copy this file over to this directory."
   ]
  },
  {
   "cell_type": "code",
   "execution_count": null,
   "id": "6fe0473a",
   "metadata": {},
   "outputs": [],
   "source": [
    "src = '/home/ec2-user/SageMaker/studies/ALL-avillach-73-bdcatalyst-etl/general/completed/Patient_Count_Per_Consents.csv'\n",
    "dst = '/home/ec2-user/SageMaker/biodatacatalyst-pic-sure/access-dashboard-metadata/Patient_Count_Per_Consents.csv'\n",
    "copyfile(src, dst)"
   ]
  },
  {
   "cell_type": "code",
   "execution_count": null,
   "id": "a5ce118a",
   "metadata": {},
   "outputs": [],
   "source": [
    "# Load S3 file as a dataframe in the Jupyter Notebook\n",
    "patient_ref_file = pd.read_csv('Patient_Count_Per_Consents.csv', header=None, names=['consent', 'patient_count'])\n",
    "patient_ref_file"
   ]
  },
  {
   "cell_type": "code",
   "execution_count": null,
   "id": "947e0ffb",
   "metadata": {},
   "outputs": [],
   "source": [
    "# Extract the consent groups based on the user-identified phs values\n",
    "full_phs = get_full_consent_vals(to_validate, patient_ref_file)\n",
    "full_phs"
   ]
  },
  {
   "cell_type": "markdown",
   "id": "43297cf2",
   "metadata": {},
   "source": [
    "### Get patient count for the specified consent groups\n",
    "Now the consent groups will be used to find the patient counts currently in the integration environment."
   ]
  },
  {
   "cell_type": "code",
   "execution_count": null,
   "id": "916eeb58",
   "metadata": {},
   "outputs": [],
   "source": [
    "# Start a new query and initialize output dictionary\n",
    "patient_count_query = int_resource.query()\n",
    "output = {}\n",
    "\n",
    "# Get patient counts for each consent group\n",
    "for consentGroup in full_phs:\n",
    "    print(consentGroup)\n",
    "    patient_count_query.filter().delete(\"\\\\_consents\\\\\") # Delete all consents\n",
    "    patient_count_query.filter().add(\"\\\\_consents\\\\\", consentGroup) # Add back consent group of interest\n",
    "    patient_count = patient_count_query.getCount() # Get patient count\n",
    "    output[consentGroup] = patient_count # Add to output"
   ]
  },
  {
   "cell_type": "markdown",
   "id": "7ae31007",
   "metadata": {},
   "source": [
    "### Compare the values to the reference file\n",
    "Finally we will compare the values from the reference file to the counts in the integration environment."
   ]
  },
  {
   "cell_type": "code",
   "execution_count": null,
   "id": "e15ad0ee",
   "metadata": {},
   "outputs": [],
   "source": [
    "for consent_val in output.keys():\n",
    "    ref_count = int(patient_ref_file[patient_ref_file['consent'] == consent_val]['patient_count']) # Count from reference file\n",
    "    integration_count = output[consent_val] # Count from integration environment\n",
    "    # Display result message\n",
    "    if ref_count == integration_count:\n",
    "        print(consent_val, \"passes validation\")\n",
    "    else:\n",
    "        print('***DID NOT PASS VALIDATION:', consent_val)\n",
    "        print('Expected count from Patient_Count_Per_Consents.csv:\\t', ref_count)\n",
    "        print('Count retrieved from integration environment:\\t', integration_count)"
   ]
  },
  {
   "cell_type": "markdown",
   "id": "ef3733ad",
   "metadata": {},
   "source": [
    "## Validation: Data dictionary comparison\n",
    "The purpose of this section is to compare the data dictionaries of the production and integration environments. These data dictionaries should be identical besides the studies that are being loaded and/or updated."
   ]
  },
  {
   "cell_type": "markdown",
   "id": "fab56923",
   "metadata": {},
   "source": [
    "### Establish connection to production environment"
   ]
  },
  {
   "cell_type": "code",
   "execution_count": null,
   "id": "0da6aa13",
   "metadata": {},
   "outputs": [],
   "source": [
    "production_PICSURE_network_URL = \"https://picsure.biodatacatalyst.nhlbi.nih.gov/picsure\"\n",
    "prod_resource_id = \"02e23f52-f354-4e8b-992c-d37c8b9ba140\"\n",
    "production_token_file = \"prod_token.txt\""
   ]
  },
  {
   "cell_type": "code",
   "execution_count": null,
   "id": "7a3bbc8f",
   "metadata": {},
   "outputs": [],
   "source": [
    "with open(production_token_file, \"r\") as f:\n",
    "    my_prod_token = f.read()"
   ]
  },
  {
   "cell_type": "code",
   "execution_count": null,
   "id": "d4c0a7da",
   "metadata": {},
   "outputs": [],
   "source": [
    "prod_client = PicSureClient.Client()\n",
    "prod_connection = prod_client.connect(production_PICSURE_network_URL, my_prod_token, True)\n",
    "prod_adapter = PicSureBdcAdapter.Adapter(prod_connection)\n",
    "prod_resource = prod_adapter.useResource(prod_resource_id)"
   ]
  },
  {
   "cell_type": "markdown",
   "id": "c33687ef",
   "metadata": {},
   "source": [
    "### Load data dictionaries\n",
    "Next we will load the data dictionaries from the integration and production environments as dataframes. These will be used to compare the environments."
   ]
  },
  {
   "cell_type": "code",
   "execution_count": null,
   "id": "bf97e22c",
   "metadata": {},
   "outputs": [],
   "source": [
    "int_dictionary = int_resource.dictionary()\n",
    "prod_dictionary = prod_resource.dictionary()"
   ]
  },
  {
   "cell_type": "code",
   "execution_count": null,
   "id": "138be153",
   "metadata": {},
   "outputs": [],
   "source": [
    "integ = int_dictionary.find().DataFrame()"
   ]
  },
  {
   "cell_type": "code",
   "execution_count": null,
   "id": "67ec5bc3",
   "metadata": {},
   "outputs": [],
   "source": [
    "prod = prod_dictionary.find().DataFrame()"
   ]
  },
  {
   "cell_type": "markdown",
   "id": "d308bb9b",
   "metadata": {},
   "source": [
    "### Compare dictionaries\n",
    "The following comparisons will be made between the dictionaries:\n",
    "1. Find concept paths that exist in integration, but not production\n",
    "2. Find concept paths that exist in production, but not integration\n",
    "3. Identify differences in the dataframe between integration and production"
   ]
  },
  {
   "cell_type": "markdown",
   "id": "e52483b9",
   "metadata": {},
   "source": [
    "The first comparisons use the concept paths, which we will extract and compare now."
   ]
  },
  {
   "cell_type": "code",
   "execution_count": null,
   "id": "21ee016c",
   "metadata": {},
   "outputs": [],
   "source": [
    "first_comparison = compare_datadict_indices(integ, prod, 1, to_validate)"
   ]
  },
  {
   "cell_type": "code",
   "execution_count": null,
   "id": "f208f9eb",
   "metadata": {},
   "outputs": [],
   "source": [
    "second_comparison = compare_datadict_indices(prod, integ, 2)"
   ]
  },
  {
   "cell_type": "markdown",
   "id": "30ebc6e1",
   "metadata": {},
   "source": [
    "The third comparison compares the data in the data dictionary. The following function iterates through each row of the data dictionary and compares the integration and production results."
   ]
  },
  {
   "cell_type": "code",
   "execution_count": null,
   "id": "7e64c788",
   "metadata": {},
   "outputs": [],
   "source": [
    "harmonized = get_full_consent_vals(to_validate_harmonized, patient_ref_file)\n",
    "topmed = get_full_consent_vals(to_validate_topmed, patient_ref_file)"
   ]
  },
  {
   "cell_type": "code",
   "execution_count": null,
   "id": "c4467073",
   "metadata": {},
   "outputs": [],
   "source": [
    "to_check = compare_datadicts(integ, prod, to_validate, full_phs, harmonized, topmed, patient_ref_file)"
   ]
  },
  {
   "cell_type": "code",
   "execution_count": null,
   "id": "4a4b0191",
   "metadata": {},
   "outputs": [],
   "source": [
    "to_check"
   ]
  },
  {
   "cell_type": "code",
   "execution_count": null,
   "id": "fb0bc66d",
   "metadata": {},
   "outputs": [],
   "source": []
  }
 ],
 "metadata": {
  "kernelspec": {
   "display_name": "conda_python3",
   "language": "python",
   "name": "conda_python3"
  },
  "language_info": {
   "codemirror_mode": {
    "name": "ipython",
    "version": 3
   },
   "file_extension": ".py",
   "mimetype": "text/x-python",
   "name": "python",
   "nbconvert_exporter": "python",
   "pygments_lexer": "ipython3",
   "version": "3.6.13"
  }
 },
 "nbformat": 4,
 "nbformat_minor": 5
}
