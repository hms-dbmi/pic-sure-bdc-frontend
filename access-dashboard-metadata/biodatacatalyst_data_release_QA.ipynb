{
 "cells": [
  {
   "cell_type": "markdown",
   "id": "9cb3f227",
   "metadata": {},
   "source": [
    "# BioData Catalyst Data Release QA\n",
    "Validation tests in this notebook:\n",
    "1. [**Patient counts of new studies**](https://basicnotebookinstance-rl0ytn08jb87.notebook.us-east-1.sagemaker.aws/notebooks/biodatacatalyst-pic-sure/access-dashboard-metadata/biodatacatalyst_data_release_QA.ipynb#Validation:-New-study-patient-counts): Patient counts of the new studies from the integration environment are compared to the patient counts in Patient_Count_Per_Consents.csv"
   ]
  },
  {
   "cell_type": "markdown",
   "id": "50dda09b",
   "metadata": {},
   "source": [
    "### Prerequisites\n",
    "- Developer access to the integration enviroment (token)\n",
    "- Consent value(s) of the new study (or studies) to validate (phs number)"
   ]
  },
  {
   "cell_type": "markdown",
   "id": "4bb6bb0d",
   "metadata": {},
   "source": [
    "### Install packages"
   ]
  },
  {
   "cell_type": "code",
   "execution_count": 1,
   "id": "693026ed",
   "metadata": {
    "scrolled": true
   },
   "outputs": [
    {
     "name": "stdout",
     "output_type": "stream",
     "text": [
      "Collecting git+https://github.com/hms-dbmi/pic-sure-python-client.git\n",
      "  Cloning https://github.com/hms-dbmi/pic-sure-python-client.git to /tmp/pip-req-build-572j0njv\n",
      "  Running command git clone -q https://github.com/hms-dbmi/pic-sure-python-client.git /tmp/pip-req-build-572j0njv\n",
      "Building wheels for collected packages: PicSureClient\n",
      "  Building wheel for PicSureClient (setup.py) ... \u001b[?25ldone\n",
      "\u001b[?25h  Created wheel for PicSureClient: filename=PicSureClient-0.1.0-py2.py3-none-any.whl size=10300 sha256=108b70e75232a9f71ccd9464879ae0329bc61fc76debe1f48228c9b6a62c4668\n",
      "  Stored in directory: /tmp/pip-ephem-wheel-cache-n_bu92se/wheels/31/ef/21/e362bba8de04e0072fafec9f77bd1abdf7e166213d27e98729\n",
      "Successfully built PicSureClient\n",
      "Installing collected packages: PicSureClient\n",
      "  Attempting uninstall: PicSureClient\n",
      "    Found existing installation: PicSureClient 0.1.0\n",
      "    Uninstalling PicSureClient-0.1.0:\n",
      "      Successfully uninstalled PicSureClient-0.1.0\n",
      "Successfully installed PicSureClient-0.1.0\n",
      "\u001b[33mWARNING: You are using pip version 21.1.3; however, version 21.2.3 is available.\n",
      "You should consider upgrading via the '/home/ec2-user/anaconda3/envs/python3/bin/python -m pip install --upgrade pip' command.\u001b[0m\n",
      "Collecting git+https://github.com/hms-dbmi/pic-sure-python-adapter-hpds.git\n",
      "  Cloning https://github.com/hms-dbmi/pic-sure-python-adapter-hpds.git to /tmp/pip-req-build-569wvh74\n",
      "  Running command git clone -q https://github.com/hms-dbmi/pic-sure-python-adapter-hpds.git /tmp/pip-req-build-569wvh74\n",
      "Collecting httplib2\n",
      "  Using cached httplib2-0.19.1-py3-none-any.whl (95 kB)\n",
      "Collecting pyparsing<3,>=2.4.2\n",
      "  Using cached pyparsing-2.4.7-py2.py3-none-any.whl (67 kB)\n",
      "Building wheels for collected packages: PicSureHpdsLib\n",
      "  Building wheel for PicSureHpdsLib (setup.py) ... \u001b[?25ldone\n",
      "\u001b[?25h  Created wheel for PicSureHpdsLib: filename=PicSureHpdsLib-0.9.0-py2.py3-none-any.whl size=22051 sha256=268d3030d4855dd40b60421e7b9b9e5d3866b37e38b6087ec737c75459e9413c\n",
      "  Stored in directory: /tmp/pip-ephem-wheel-cache-uhthieyj/wheels/ae/d9/1a/c8c0ac8151b575c845efddc061fe014d86c51d1fd2c408907c\n",
      "Successfully built PicSureHpdsLib\n",
      "Installing collected packages: pyparsing, httplib2, PicSureHpdsLib\n",
      "  Attempting uninstall: pyparsing\n",
      "    Found existing installation: pyparsing 2.4.7\n",
      "    Uninstalling pyparsing-2.4.7:\n",
      "      Successfully uninstalled pyparsing-2.4.7\n",
      "  Attempting uninstall: httplib2\n",
      "    Found existing installation: httplib2 0.19.1\n",
      "    Uninstalling httplib2-0.19.1:\n",
      "      Successfully uninstalled httplib2-0.19.1\n",
      "  Attempting uninstall: PicSureHpdsLib\n",
      "    Found existing installation: PicSureHpdsLib 0.9.0\n",
      "    Uninstalling PicSureHpdsLib-0.9.0:\n",
      "      Successfully uninstalled PicSureHpdsLib-0.9.0\n",
      "Successfully installed PicSureHpdsLib-0.9.0 httplib2-0.19.1 pyparsing-2.4.7\n",
      "\u001b[33mWARNING: You are using pip version 21.1.3; however, version 21.2.3 is available.\n",
      "You should consider upgrading via the '/home/ec2-user/anaconda3/envs/python3/bin/python -m pip install --upgrade pip' command.\u001b[0m\n",
      "Collecting git+https://github.com/hms-dbmi/pic-sure-biodatacatalyst-python-adapter-hpds.git\n",
      "  Cloning https://github.com/hms-dbmi/pic-sure-biodatacatalyst-python-adapter-hpds.git to /tmp/pip-req-build-uzdf2_o1\n",
      "  Running command git clone -q https://github.com/hms-dbmi/pic-sure-biodatacatalyst-python-adapter-hpds.git /tmp/pip-req-build-uzdf2_o1\n",
      "Collecting httplib2\n",
      "  Using cached httplib2-0.19.1-py3-none-any.whl (95 kB)\n",
      "Collecting pyparsing<3,>=2.4.2\n",
      "  Using cached pyparsing-2.4.7-py2.py3-none-any.whl (67 kB)\n",
      "Building wheels for collected packages: PicSureBdcAdapter\n",
      "  Building wheel for PicSureBdcAdapter (setup.py) ... \u001b[?25ldone\n",
      "\u001b[?25h  Created wheel for PicSureBdcAdapter: filename=PicSureBdcAdapter-1.0.0-py3-none-any.whl size=8605 sha256=77efe01ca5ea35f7a133ac49c80d84f35bd67d9cec814501673fc2a9c1295456\n",
      "  Stored in directory: /tmp/pip-ephem-wheel-cache-16ualjv0/wheels/20/c3/f6/72bb8b68322e9bb56152181e827c51c09df269e5f84ed7311b\n",
      "Successfully built PicSureBdcAdapter\n",
      "Installing collected packages: pyparsing, httplib2, PicSureBdcAdapter\n",
      "  Attempting uninstall: pyparsing\n",
      "    Found existing installation: pyparsing 2.4.7\n",
      "    Uninstalling pyparsing-2.4.7:\n",
      "      Successfully uninstalled pyparsing-2.4.7\n",
      "  Attempting uninstall: httplib2\n",
      "    Found existing installation: httplib2 0.19.1\n",
      "    Uninstalling httplib2-0.19.1:\n",
      "      Successfully uninstalled httplib2-0.19.1\n",
      "  Attempting uninstall: PicSureBdcAdapter\n",
      "    Found existing installation: PicSureBdcAdapter 1.0.0\n",
      "    Uninstalling PicSureBdcAdapter-1.0.0:\n",
      "      Successfully uninstalled PicSureBdcAdapter-1.0.0\n",
      "Successfully installed PicSureBdcAdapter-1.0.0 httplib2-0.19.1 pyparsing-2.4.7\n",
      "\u001b[33mWARNING: You are using pip version 21.1.3; however, version 21.2.3 is available.\n",
      "You should consider upgrading via the '/home/ec2-user/anaconda3/envs/python3/bin/python -m pip install --upgrade pip' command.\u001b[0m\n",
      "Requirement already satisfied: numpy>=1.16.4 in /home/ec2-user/anaconda3/envs/python3/lib/python3.6/site-packages (from -r requirements.txt (line 1)) (1.19.5)\n",
      "Requirement already satisfied: matplotlib>=3.1.1 in /home/ec2-user/anaconda3/envs/python3/lib/python3.6/site-packages (from -r requirements.txt (line 2)) (3.3.4)\n",
      "Requirement already satisfied: pandas>=0.25.3 in /home/ec2-user/anaconda3/envs/python3/lib/python3.6/site-packages (from -r requirements.txt (line 3)) (1.1.5)\n",
      "Requirement already satisfied: scipy>=1.3.1 in /home/ec2-user/anaconda3/envs/python3/lib/python3.6/site-packages (from -r requirements.txt (line 4)) (1.5.3)\n",
      "Requirement already satisfied: tqdm>=4.38.0 in /home/ec2-user/anaconda3/envs/python3/lib/python3.6/site-packages (from -r requirements.txt (line 5)) (4.61.2)\n",
      "Requirement already satisfied: statsmodels>=0.10.2 in /home/ec2-user/anaconda3/envs/python3/lib/python3.6/site-packages (from -r requirements.txt (line 6)) (0.12.2)\n",
      "Requirement already satisfied: pillow>=6.2.0 in /home/ec2-user/anaconda3/envs/python3/lib/python3.6/site-packages (from matplotlib>=3.1.1->-r requirements.txt (line 2)) (8.3.1)\n",
      "Requirement already satisfied: cycler>=0.10 in /home/ec2-user/anaconda3/envs/python3/lib/python3.6/site-packages (from matplotlib>=3.1.1->-r requirements.txt (line 2)) (0.10.0)\n",
      "Requirement already satisfied: pyparsing!=2.0.4,!=2.1.2,!=2.1.6,>=2.0.3 in /home/ec2-user/anaconda3/envs/python3/lib/python3.6/site-packages (from matplotlib>=3.1.1->-r requirements.txt (line 2)) (2.4.7)\n",
      "Requirement already satisfied: kiwisolver>=1.0.1 in /home/ec2-user/anaconda3/envs/python3/lib/python3.6/site-packages (from matplotlib>=3.1.1->-r requirements.txt (line 2)) (1.3.1)\n",
      "Requirement already satisfied: python-dateutil>=2.1 in /home/ec2-user/anaconda3/envs/python3/lib/python3.6/site-packages (from matplotlib>=3.1.1->-r requirements.txt (line 2)) (2.8.1)\n",
      "Requirement already satisfied: pytz>=2017.2 in /home/ec2-user/anaconda3/envs/python3/lib/python3.6/site-packages (from pandas>=0.25.3->-r requirements.txt (line 3)) (2021.1)\n",
      "Requirement already satisfied: patsy>=0.5 in /home/ec2-user/anaconda3/envs/python3/lib/python3.6/site-packages (from statsmodels>=0.10.2->-r requirements.txt (line 6)) (0.5.1)\n",
      "Requirement already satisfied: six in /home/ec2-user/anaconda3/envs/python3/lib/python3.6/site-packages (from cycler>=0.10->matplotlib>=3.1.1->-r requirements.txt (line 2)) (1.15.0)\n",
      "\u001b[33mWARNING: You are using pip version 21.1.3; however, version 21.2.3 is available.\n",
      "You should consider upgrading via the '/home/ec2-user/anaconda3/envs/python3/bin/python -m pip install --upgrade pip' command.\u001b[0m\n"
     ]
    }
   ],
   "source": [
    "import sys\n",
    "!{sys.executable} -m pip install --upgrade --force-reinstall git+https://github.com/hms-dbmi/pic-sure-python-client.git\n",
    "!{sys.executable} -m pip install --upgrade --force-reinstall git+https://github.com/hms-dbmi/pic-sure-python-adapter-hpds.git\n",
    "!{sys.executable} -m pip install --upgrade --force-reinstall git+https://github.com/hms-dbmi/pic-sure-biodatacatalyst-python-adapter-hpds.git\n",
    "!{sys.executable} -m pip install -r requirements.txt"
   ]
  },
  {
   "cell_type": "code",
   "execution_count": 2,
   "id": "02598e35",
   "metadata": {},
   "outputs": [],
   "source": [
    "import json\n",
    "from pprint import pprint\n",
    "\n",
    "import pandas as pd\n",
    "\n",
    "from shutil import copyfile\n",
    "import PicSureClient\n",
    "import PicSureBdcAdapter"
   ]
  },
  {
   "cell_type": "markdown",
   "id": "9bda2693",
   "metadata": {},
   "source": [
    "### Connect to PIC-SURE\n",
    "Be sure to use the **developer token** from the **integration environment**. It is necessary to have access to all studies to validate the counts."
   ]
  },
  {
   "cell_type": "code",
   "execution_count": 3,
   "id": "94a549ff",
   "metadata": {},
   "outputs": [],
   "source": [
    "PICSURE_network_URL = \"https://biodatacatalyst.integration.hms.harvard.edu/picsure\"\n",
    "resource_id = \"02e23f52-f354-4e8b-992c-d37c8b9ba140\"\n",
    "token_file = \"token.txt\""
   ]
  },
  {
   "cell_type": "code",
   "execution_count": 6,
   "id": "1d46fcf4",
   "metadata": {},
   "outputs": [],
   "source": [
    "with open(token_file, \"r\") as f:\n",
    "    my_token = f.read()"
   ]
  },
  {
   "cell_type": "code",
   "execution_count": 7,
   "id": "9f63df57",
   "metadata": {},
   "outputs": [
    {
     "name": "stdout",
     "output_type": "stream",
     "text": [
      "\u001b[38;5;91;40m\n",
      "\n",
      "+=========================================================================================+\n",
      "|        [ WARNING ] you are specifying that you WANT to allow self-signed SSL            |\n",
      "|        certificates to be acceptable for connections.  This may be useful for           |\n",
      "|        working in a development environment or on systems that host public              |\n",
      "|        data.  BEST SECURITY PRACTICES ARE THAT IF YOU ARE WORKING WITH SENSITIVE        |\n",
      "|        DATA THEN ALL SSL CERTS BY THOSE EVIRONMENTS SHOULD NOT BE SELF-SIGNED.          |\n",
      "+=========================================================================================+\n",
      "\u001b[39;49m\n",
      "+--------------------------------------+------------------------------------------------------+\n",
      "|  Resource UUID                       |  Resource Name                                       |\n",
      "+--------------------------------------+------------------------------------------------------+\n",
      "| 02e23f52-f354-4e8b-992c-d37c8b9ba140 |                                                      |\n",
      "| 70c837be-5ffc-11eb-ae93-0242ac130002 |                                                      |\n",
      "+--------------------------------------+------------------------------------------------------+\n"
     ]
    }
   ],
   "source": [
    "client = PicSureClient.Client()\n",
    "connection = client.connect(PICSURE_network_URL, my_token, True)\n",
    "adapter = PicSureBdcAdapter.Adapter(connection)\n",
    "resource = adapter.useResource(resource_id)"
   ]
  },
  {
   "cell_type": "markdown",
   "id": "108ac653",
   "metadata": {},
   "source": [
    "## Validation: New study patient counts\n",
    "The purpose of this section is to validate the patient counts for newly ingested studies."
   ]
  },
  {
   "cell_type": "markdown",
   "id": "6e1ae438",
   "metadata": {},
   "source": [
    "### Specify the new study (or studies) to be tested\n",
    "To validate the new studies ingested, specify the phs numbers in the cell below without the consent group. \n",
    "For example, if the study of interest is the AMISH study, list `phs000956` below (*not* `phs000956.c1`)."
   ]
  },
  {
   "cell_type": "code",
   "execution_count": 8,
   "id": "d72b013c",
   "metadata": {},
   "outputs": [],
   "source": [
    "#to_validate = ['list', 'phs_numbers', 'here']\n",
    "to_validate = ['phs000285', #CARDIA,\n",
    "               'phs000703', #CATHGEN\n",
    "               'phs001194', #PCGC\n",
    "               'phs000810', #HCHS-SOL\n",
    "               'phs001252' #ECLIPSE\n",
    "              ]"
   ]
  },
  {
   "cell_type": "markdown",
   "id": "625cd57b",
   "metadata": {},
   "source": [
    "### Get patient count file from S3 bucket\n",
    "This notebook uses `Patient_Count_Per_Consents.csv` from the S3 bucket as the reference file. First we need to copy this file over to this directory."
   ]
  },
  {
   "cell_type": "code",
   "execution_count": 9,
   "id": "61926361",
   "metadata": {},
   "outputs": [
    {
     "data": {
      "text/plain": [
       "'/home/ec2-user/SageMaker/biodatacatalyst-pic-sure/access-dashboard-metadata/Patient_Count_Per_Consents.csv'"
      ]
     },
     "execution_count": 9,
     "metadata": {},
     "output_type": "execute_result"
    }
   ],
   "source": [
    "src = '/home/ec2-user/SageMaker/studies/ALL-avillach-73-bdcatalyst-etl/general/completed/Patient_Count_Per_Consents.csv'\n",
    "dst = '/home/ec2-user/SageMaker/biodatacatalyst-pic-sure/access-dashboard-metadata/Patient_Count_Per_Consents.csv'\n",
    "copyfile(src, dst)"
   ]
  },
  {
   "cell_type": "code",
   "execution_count": 10,
   "id": "72bde02c",
   "metadata": {},
   "outputs": [
    {
     "data": {
      "text/html": [
       "<div>\n",
       "<style scoped>\n",
       "    .dataframe tbody tr th:only-of-type {\n",
       "        vertical-align: middle;\n",
       "    }\n",
       "\n",
       "    .dataframe tbody tr th {\n",
       "        vertical-align: top;\n",
       "    }\n",
       "\n",
       "    .dataframe thead th {\n",
       "        text-align: right;\n",
       "    }\n",
       "</style>\n",
       "<table border=\"1\" class=\"dataframe\">\n",
       "  <thead>\n",
       "    <tr style=\"text-align: right;\">\n",
       "      <th></th>\n",
       "      <th>consent</th>\n",
       "      <th>patient_count</th>\n",
       "    </tr>\n",
       "  </thead>\n",
       "  <tbody>\n",
       "    <tr>\n",
       "      <th>0</th>\n",
       "      <td>phs001001.c1</td>\n",
       "      <td>933</td>\n",
       "    </tr>\n",
       "    <tr>\n",
       "      <th>1</th>\n",
       "      <td>phs001001.c2</td>\n",
       "      <td>92</td>\n",
       "    </tr>\n",
       "    <tr>\n",
       "      <th>2</th>\n",
       "      <td>phs001345.c1</td>\n",
       "      <td>1854</td>\n",
       "    </tr>\n",
       "    <tr>\n",
       "      <th>3</th>\n",
       "      <td>phs000956.c2</td>\n",
       "      <td>1123</td>\n",
       "    </tr>\n",
       "    <tr>\n",
       "      <th>4</th>\n",
       "      <td>phs000956.c0</td>\n",
       "      <td>1069</td>\n",
       "    </tr>\n",
       "    <tr>\n",
       "      <th>...</th>\n",
       "      <td>...</td>\n",
       "      <td>...</td>\n",
       "    </tr>\n",
       "    <tr>\n",
       "      <th>108</th>\n",
       "      <td>phs000287.c4</td>\n",
       "      <td>8</td>\n",
       "    </tr>\n",
       "    <tr>\n",
       "      <th>109</th>\n",
       "      <td>phs001412.c2</td>\n",
       "      <td>3</td>\n",
       "    </tr>\n",
       "    <tr>\n",
       "      <th>110</th>\n",
       "      <td>phs001024.c1</td>\n",
       "      <td>128</td>\n",
       "    </tr>\n",
       "    <tr>\n",
       "      <th>111</th>\n",
       "      <td>phs001412.c1</td>\n",
       "      <td>402</td>\n",
       "    </tr>\n",
       "    <tr>\n",
       "      <th>112</th>\n",
       "      <td>phs001412.c0</td>\n",
       "      <td>576</td>\n",
       "    </tr>\n",
       "  </tbody>\n",
       "</table>\n",
       "<p>113 rows × 2 columns</p>\n",
       "</div>"
      ],
      "text/plain": [
       "          consent  patient_count\n",
       "0    phs001001.c1            933\n",
       "1    phs001001.c2             92\n",
       "2    phs001345.c1           1854\n",
       "3    phs000956.c2           1123\n",
       "4    phs000956.c0           1069\n",
       "..            ...            ...\n",
       "108  phs000287.c4              8\n",
       "109  phs001412.c2              3\n",
       "110  phs001024.c1            128\n",
       "111  phs001412.c1            402\n",
       "112  phs001412.c0            576\n",
       "\n",
       "[113 rows x 2 columns]"
      ]
     },
     "execution_count": 10,
     "metadata": {},
     "output_type": "execute_result"
    }
   ],
   "source": [
    "# Load S3 file as a dataframe in the Jupyter Notebook\n",
    "patient_ref_file = pd.read_csv('Patient_Count_Per_Consents.csv', header=None, names=['consent', 'patient_count'])\n",
    "patient_ref_file"
   ]
  },
  {
   "cell_type": "code",
   "execution_count": 11,
   "id": "4ed153fc",
   "metadata": {},
   "outputs": [
    {
     "data": {
      "text/plain": [
       "['phs000285.c2',\n",
       " 'phs000285.c1',\n",
       " 'phs000703.c1',\n",
       " 'phs001194.c1',\n",
       " 'phs001194.c2',\n",
       " 'phs000810.c2',\n",
       " 'phs000810.c1',\n",
       " 'phs001252.c1']"
      ]
     },
     "execution_count": 11,
     "metadata": {},
     "output_type": "execute_result"
    }
   ],
   "source": [
    "# Extract the consent groups based on the user-identified phs values\n",
    "full_phs = []\n",
    "for phs in to_validate:\n",
    "    for full in list(patient_ref_file['consent']):\n",
    "        if phs in full and \".c0\" not in full:\n",
    "            full_phs.append(full)\n",
    "full_phs"
   ]
  },
  {
   "cell_type": "markdown",
   "id": "51d81348",
   "metadata": {},
   "source": [
    "### Get patient count for the specified consent groups\n",
    "Now the consent groups will be used to find the patient counts currently in the integration environment."
   ]
  },
  {
   "cell_type": "code",
   "execution_count": 12,
   "id": "0491e3be",
   "metadata": {},
   "outputs": [
    {
     "name": "stdout",
     "output_type": "stream",
     "text": [
      "phs000285.c2\n",
      "Deleted key: \\_consents\\\n",
      "phs000285.c1\n",
      "Deleted key: \\_consents\\\n",
      "phs000703.c1\n",
      "Deleted key: \\_consents\\\n",
      "phs001194.c1\n",
      "Deleted key: \\_consents\\\n",
      "phs001194.c2\n",
      "Deleted key: \\_consents\\\n",
      "phs000810.c2\n",
      "Deleted key: \\_consents\\\n",
      "phs000810.c1\n",
      "Deleted key: \\_consents\\\n",
      "phs001252.c1\n",
      "Deleted key: \\_consents\\\n"
     ]
    }
   ],
   "source": [
    "# Start a new query and initialize output dictionary\n",
    "patient_count_query = resource.query()\n",
    "output = {}\n",
    "\n",
    "# Get patient counts for each consent group\n",
    "for consentGroup in full_phs:\n",
    "    print(consentGroup)\n",
    "    patient_count_query.filter().delete(\"\\\\_consents\\\\\") # Delete all consents\n",
    "    patient_count_query.filter().add(\"\\\\_consents\\\\\", consentGroup) # Add back consent group of interest\n",
    "    patient_count = patient_count_query.getCount() # Get patient count\n",
    "    output[consentGroup] = patient_count # Add to output"
   ]
  },
  {
   "cell_type": "markdown",
   "id": "e1285bcf",
   "metadata": {},
   "source": [
    "### Compare the values to the reference file\n",
    "Finally we will compare the values from the reference file to the counts in the integration environment."
   ]
  },
  {
   "cell_type": "code",
   "execution_count": 13,
   "id": "cb0b9d9c",
   "metadata": {},
   "outputs": [
    {
     "name": "stdout",
     "output_type": "stream",
     "text": [
      "phs000285.c2 passes validation\n",
      "phs000285.c1 passes validation\n",
      "phs000703.c1 passes validation\n",
      "phs001194.c1 passes validation\n",
      "phs001194.c2 passes validation\n",
      "phs000810.c2 passes validation\n",
      "phs000810.c1 passes validation\n",
      "phs001252.c1 passes validation\n"
     ]
    }
   ],
   "source": [
    "for consent_val in output.keys():\n",
    "    ref_count = int(patient_ref_file[patient_ref_file['consent'] == consent_val]['patient_count']) # Count from reference file\n",
    "    integration_count = output[consent_val] # Count from integration environment\n",
    "    # Display result message\n",
    "    if ref_count == integration_count:\n",
    "        print(consent_val, \"passes validation\")\n",
    "    else:\n",
    "        print('***DID NOT PASS VALIDATION:', consent_val)\n",
    "        print('Expected count from Patient_Count_Per_Consents.csv:\\t', ref_count)\n",
    "        print('Count retrieved from integration environment:\\t', integration_count)"
   ]
  },
  {
   "cell_type": "code",
   "execution_count": null,
   "id": "509659bf",
   "metadata": {},
   "outputs": [],
   "source": []
  }
 ],
 "metadata": {
  "kernelspec": {
   "display_name": "conda_python3",
   "language": "python",
   "name": "conda_python3"
  },
  "language_info": {
   "codemirror_mode": {
    "name": "ipython",
    "version": 3
   },
   "file_extension": ".py",
   "mimetype": "text/x-python",
   "name": "python",
   "nbconvert_exporter": "python",
   "pygments_lexer": "ipython3",
   "version": "3.6.13"
  }
 },
 "nbformat": 4,
 "nbformat_minor": 5
}
