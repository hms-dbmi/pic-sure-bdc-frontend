{
 "cells": [
  {
   "cell_type": "markdown",
   "id": "275dff91",
   "metadata": {},
   "source": [
    "# Validation notebook: New study patient counts\n",
    "The purpose of this notebook is to validate the patient counts for newly ingested studies."
   ]
  },
  {
   "cell_type": "code",
   "execution_count": null,
   "id": "3765d749",
   "metadata": {},
   "outputs": [],
   "source": [
    "# Rename to make universal for QA process\n",
    "# Include data dictionary comparisons"
   ]
  },
  {
   "cell_type": "markdown",
   "id": "5fe014de",
   "metadata": {},
   "source": [
    "### Prerequisites\n",
    "- Developer access to the integration enviroment (token)\n",
    "- Consent value(s) of the new study (or studies) to validate (phs number)"
   ]
  },
  {
   "cell_type": "markdown",
   "id": "aaea6382",
   "metadata": {},
   "source": [
    "### Install packages"
   ]
  },
  {
   "cell_type": "code",
   "execution_count": null,
   "id": "3ec06863",
   "metadata": {
    "scrolled": true
   },
   "outputs": [],
   "source": [
    "import sys\n",
    "!{sys.executable} -m pip install --upgrade --force-reinstall git+https://github.com/hms-dbmi/pic-sure-python-client.git\n",
    "!{sys.executable} -m pip install --upgrade --force-reinstall git+https://github.com/hms-dbmi/pic-sure-python-adapter-hpds.git\n",
    "!{sys.executable} -m pip install --upgrade --force-reinstall git+https://github.com/hms-dbmi/pic-sure-biodatacatalyst-python-adapter-hpds.git\n",
    "!{sys.executable} -m pip install -r requirements.txt"
   ]
  },
  {
   "cell_type": "code",
   "execution_count": null,
   "id": "1c63e6a5",
   "metadata": {},
   "outputs": [],
   "source": [
    "import json\n",
    "from pprint import pprint\n",
    "\n",
    "import pandas as pd\n",
    "import numpy as np \n",
    "import matplotlib.pyplot as plt\n",
    "from scipy import stats\n",
    "\n",
    "import PicSureClient\n",
    "import PicSureBdcAdapter"
   ]
  },
  {
   "cell_type": "markdown",
   "id": "f5008259",
   "metadata": {},
   "source": [
    "### Connect to PIC-SURE\n",
    "Be sure to use the **developer token** from the **integration environment**. It is necessary to have access to all studies to validate the counts."
   ]
  },
  {
   "cell_type": "code",
   "execution_count": null,
   "id": "2c450475",
   "metadata": {},
   "outputs": [],
   "source": [
    "PICSURE_network_URL = \"https://biodatacatalyst.integration.hms.harvard.edu/picsure\"\n",
    "resource_id = \"02e23f52-f354-4e8b-992c-d37c8b9ba140\"\n",
    "token_file = \"token.txt\""
   ]
  },
  {
   "cell_type": "code",
   "execution_count": null,
   "id": "4e3934e3",
   "metadata": {},
   "outputs": [],
   "source": [
    "with open(token_file, \"r\") as f:\n",
    "    my_token = f.read()"
   ]
  },
  {
   "cell_type": "code",
   "execution_count": null,
   "id": "b64ec7ee",
   "metadata": {},
   "outputs": [],
   "source": [
    "client = PicSureClient.Client()\n",
    "connection = client.connect(PICSURE_network_URL, my_token, True)\n",
    "adapter = PicSureBdcAdapter.Adapter(connection)\n",
    "resource = adapter.useResource(resource_id)"
   ]
  },
  {
   "cell_type": "markdown",
   "id": "a3483929",
   "metadata": {},
   "source": [
    "### Specify the new study (or studies) to be tested\n",
    "To validate the new studies ingested, specify the phs numbers in the cell below without the consent group. \n",
    "For example, if the study of interest is the AMISH study, list `phs000956` below (*not* `phs000956.c1`)."
   ]
  },
  {
   "cell_type": "code",
   "execution_count": null,
   "id": "5858c58f",
   "metadata": {},
   "outputs": [],
   "source": [
    "#to_validate = ['list', 'phs_numbers', 'here']\n",
    "to_validate = ['phs000285', #CARDIA,\n",
    "               'phs000703', #CATHGEN\n",
    "               'phs001194', #PCGC\n",
    "               'phs000810', #HCHS-SOL\n",
    "               'phs001252' #ECLIPSE\n",
    "              ]"
   ]
  },
  {
   "cell_type": "markdown",
   "id": "f1ad76da",
   "metadata": {},
   "source": [
    "### Get patient count file from S3 bucket\n",
    "This notebook uses `Patient_Count_Per_Consents.csv` from the S3 bucket as the reference file. First we need to copy this file over to this directory."
   ]
  },
  {
   "cell_type": "markdown",
   "id": "f8018dee",
   "metadata": {},
   "source": [
    "Use the following steps to accomplish this:\n",
    "1. Open a Terminal window\n",
    "2. Ensure you are in the `SageMaker` directory using this command:\n",
    "    \n",
    "    `cd SageMaker`\n",
    "    \n",
    "\n",
    "3. Copy the file using the following command:\n",
    "\n",
    "    `cp studies/ALL-avillach-73-bdcatalyst-etl/general/completed/Patient_Count_Per_Consents.csv biodatacatalyst-pic-sure/access-dashboard-metadata/.`"
   ]
  },
  {
   "cell_type": "code",
   "execution_count": null,
   "id": "4adfba8f",
   "metadata": {},
   "outputs": [],
   "source": [
    "# Try copying the patient counts file with os.system https://docs.python.org/3/library/os.html#os.system\n",
    "# Patient_Count_Per_Consents.csv should be added to the .gitignore"
   ]
  },
  {
   "cell_type": "code",
   "execution_count": null,
   "id": "d7d3a0ea",
   "metadata": {},
   "outputs": [],
   "source": [
    "# Load S3 file as a dataframe in the Jupyter Notebook\n",
    "patient_ref_file = pd.read_csv('Patient_Count_Per_Consents.csv', header=None, names=['consent', 'patient_count'])\n",
    "patient_ref_file"
   ]
  },
  {
   "cell_type": "code",
   "execution_count": null,
   "id": "235a059f",
   "metadata": {},
   "outputs": [],
   "source": [
    "# Extract the consent groups based on the user-identified phs values\n",
    "full_phs = []\n",
    "for phs in to_validate:\n",
    "    for full in list(patient_ref_file['consent']):\n",
    "        if phs in full and \".c0\" not in full:\n",
    "            full_phs.append(full)\n",
    "full_phs"
   ]
  },
  {
   "cell_type": "markdown",
   "id": "63d319a2",
   "metadata": {},
   "source": [
    "### Get patient count for the specified consent groups\n",
    "Now the consent groups will be used to find the patient counts currently in the integration environment."
   ]
  },
  {
   "cell_type": "code",
   "execution_count": null,
   "id": "8061dbb1",
   "metadata": {},
   "outputs": [],
   "source": [
    "# Start a new query and initialize output dictionary\n",
    "patient_count_query = resource.query()\n",
    "output = {}\n",
    "\n",
    "# Get patient counts for each consent group\n",
    "for consentGroup in full_phs:\n",
    "    print(consentGroup)\n",
    "    patient_count_query.filter().delete(\"\\\\_consents\\\\\") # Delete all consents\n",
    "    patient_count_query.filter().add(\"\\\\_consents\\\\\", consentGroup) # Add back consent group of interest\n",
    "    patient_count = patient_count_query.getCount() # Get patient count\n",
    "    output[consentGroup] = patient_count # Add to output"
   ]
  },
  {
   "cell_type": "markdown",
   "id": "bee8a6fd",
   "metadata": {},
   "source": [
    "### Compare the values to the reference file\n",
    "Finally we will compare the values from the reference file to the counts in the integration environment."
   ]
  },
  {
   "cell_type": "code",
   "execution_count": null,
   "id": "a1b62127",
   "metadata": {},
   "outputs": [],
   "source": [
    "for consent_val in output.keys():\n",
    "    ref_count = int(patient_ref_file[patient_ref_file['consent'] == consent_val]['patient_count']) # Count from reference file\n",
    "    integration_count = output[consent_val] # Count from integration environment\n",
    "    # Display result message\n",
    "    if ref_count == integration_count:\n",
    "        print(consent_val, \"passes validation\")\n",
    "    else:\n",
    "        print('***DID NOT PASS VALIDATION:', consent_val) # Print out expected count and actual count"
   ]
  }
 ],
 "metadata": {
  "kernelspec": {
   "display_name": "conda_python3",
   "language": "python",
   "name": "conda_python3"
  },
  "language_info": {
   "codemirror_mode": {
    "name": "ipython",
    "version": 3
   },
   "file_extension": ".py",
   "mimetype": "text/x-python",
   "name": "python",
   "nbconvert_exporter": "python",
   "pygments_lexer": "ipython3",
   "version": "3.6.13"
  }
 },
 "nbformat": 4,
 "nbformat_minor": 5
}
