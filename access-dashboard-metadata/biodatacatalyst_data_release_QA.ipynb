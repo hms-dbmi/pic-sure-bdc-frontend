{
 "cells": [
  {
   "cell_type": "markdown",
   "id": "2c9caebd",
   "metadata": {},
   "source": [
    "# BioData Catalyst Data Release QA\n",
    "Validation tests in this notebook:\n",
    "1. [**Patient counts of new studies**](https://basicnotebookinstance-rl0ytn08jb87.notebook.us-east-1.sagemaker.aws/notebooks/biodatacatalyst-pic-sure/access-dashboard-metadata/biodatacatalyst_data_release_QA.ipynb#Validation:-New-study-patient-counts): Patient counts of the new studies from the integration environment are compared to the patient counts in Patient_Count_Per_Consents.csv\n",
    "2. [**Data dictionary comparison**](https://basicnotebookinstance-rl0ytn08jb87.notebook.us-east-1.sagemaker.aws/notebooks/biodatacatalyst-pic-sure/access-dashboard-metadata/biodatacatalyst_data_release_QA.ipynb#Validation:-Data-dictionary-comparison): Integration and production data dictionaries are compared to ensure complete match"
   ]
  },
  {
   "cell_type": "markdown",
   "id": "802ed16b",
   "metadata": {},
   "source": [
    "### Prerequisites\n",
    "- Developer access to the integration enviroment (token)\n",
    "- Consent value(s) of the new study (or studies) to validate (phs number)\n",
    "- Knowledge on whether a harmonized study was added"
   ]
  },
  {
   "cell_type": "markdown",
   "id": "36ce0848",
   "metadata": {},
   "source": [
    "### Install packages"
   ]
  },
  {
   "cell_type": "code",
   "execution_count": null,
   "id": "d3d0f271",
   "metadata": {
    "scrolled": true
   },
   "outputs": [],
   "source": [
    "import sys\n",
    "!{sys.executable} -m pip install --upgrade --force-reinstall git+https://github.com/hms-dbmi/pic-sure-python-client.git\n",
    "!{sys.executable} -m pip install --upgrade --force-reinstall git+https://github.com/hms-dbmi/pic-sure-python-adapter-hpds.git\n",
    "!{sys.executable} -m pip install --upgrade --force-reinstall git+https://github.com/hms-dbmi/pic-sure-biodatacatalyst-python-adapter-hpds.git\n",
    "!{sys.executable} -m pip install -r requirements.txt"
   ]
  },
  {
   "cell_type": "code",
   "execution_count": null,
   "id": "16fb0ba7",
   "metadata": {},
   "outputs": [],
   "source": [
    "import json\n",
    "from pprint import pprint\n",
    "\n",
    "import pandas as pd\n",
    "import math\n",
    "\n",
    "from shutil import copyfile\n",
    "import PicSureClient\n",
    "import PicSureBdcAdapter"
   ]
  },
  {
   "cell_type": "markdown",
   "id": "598d67f9",
   "metadata": {},
   "source": [
    "### Connect to PIC-SURE\n",
    "Be sure to use the **developer token** from the **integration environment**. It is necessary to have access to all studies to validate the counts."
   ]
  },
  {
   "cell_type": "code",
   "execution_count": null,
   "id": "ab9fd1ad",
   "metadata": {},
   "outputs": [],
   "source": [
    "integration_PICSURE_network_URL = \"https://biodatacatalyst.integration.hms.harvard.edu/picsure\"\n",
    "int_resource_id = \"02e23f52-f354-4e8b-992c-d37c8b9ba140\"\n",
    "integration_token_file = \"token.txt\""
   ]
  },
  {
   "cell_type": "code",
   "execution_count": null,
   "id": "3818759a",
   "metadata": {},
   "outputs": [],
   "source": [
    "with open(integration_token_file, \"r\") as f:\n",
    "    my_int_token = f.read()"
   ]
  },
  {
   "cell_type": "code",
   "execution_count": null,
   "id": "2103d374",
   "metadata": {},
   "outputs": [],
   "source": [
    "int_client = PicSureClient.Client()\n",
    "int_connection = int_client.connect(integration_PICSURE_network_URL, my_int_token, True)\n",
    "int_adapter = PicSureBdcAdapter.Adapter(int_connection)\n",
    "int_resource = int_adapter.useResource(int_resource_id)"
   ]
  },
  {
   "cell_type": "markdown",
   "id": "de5c925b",
   "metadata": {},
   "source": [
    "## Validation: New study patient counts\n",
    "The purpose of this section is to validate the patient counts for newly ingested studies."
   ]
  },
  {
   "cell_type": "markdown",
   "id": "67b13aef",
   "metadata": {},
   "source": [
    "### Specify the new study (or studies) to be tested\n",
    "To validate the new studies ingested, specify the phs numbers in the cell below without the consent group. \n",
    "For example, if the study of interest is the AMISH study, list `phs000956` below (*not* `phs000956.c1`)."
   ]
  },
  {
   "cell_type": "code",
   "execution_count": null,
   "id": "3948f32e",
   "metadata": {},
   "outputs": [],
   "source": [
    "#to_validate = ['list', 'phs_numbers', 'here']\n",
    "to_validate = ['phs000285', #CARDIA,\n",
    "               'phs000703', #CATHGEN\n",
    "               'phs001194', #PCGC\n",
    "               'phs000810', #HCHS-SOL\n",
    "               'phs001252' #ECLIPSE\n",
    "              ]"
   ]
  },
  {
   "cell_type": "markdown",
   "id": "be81723f",
   "metadata": {},
   "source": [
    "### Get patient count file from S3 bucket\n",
    "This notebook uses `Patient_Count_Per_Consents.csv` from the S3 bucket as the reference file. First we need to copy this file over to this directory."
   ]
  },
  {
   "cell_type": "code",
   "execution_count": null,
   "id": "e780076f",
   "metadata": {},
   "outputs": [],
   "source": [
    "src = '/home/ec2-user/SageMaker/studies/ALL-avillach-73-bdcatalyst-etl/general/completed/Patient_Count_Per_Consents.csv'\n",
    "dst = '/home/ec2-user/SageMaker/biodatacatalyst-pic-sure/access-dashboard-metadata/Patient_Count_Per_Consents.csv'\n",
    "copyfile(src, dst)"
   ]
  },
  {
   "cell_type": "code",
   "execution_count": null,
   "id": "738d4b23",
   "metadata": {},
   "outputs": [],
   "source": [
    "# Load S3 file as a dataframe in the Jupyter Notebook\n",
    "patient_ref_file = pd.read_csv('Patient_Count_Per_Consents.csv', header=None, names=['consent', 'patient_count'])\n",
    "patient_ref_file"
   ]
  },
  {
   "cell_type": "code",
   "execution_count": null,
   "id": "96c630db",
   "metadata": {},
   "outputs": [],
   "source": [
    "# Extract the consent groups based on the user-identified phs values\n",
    "full_phs = []\n",
    "for phs in to_validate:\n",
    "    for full in list(patient_ref_file['consent']):\n",
    "        if phs in full and \".c0\" not in full:\n",
    "            full_phs.append(full)\n",
    "full_phs"
   ]
  },
  {
   "cell_type": "markdown",
   "id": "77e03d39",
   "metadata": {},
   "source": [
    "### Get patient count for the specified consent groups\n",
    "Now the consent groups will be used to find the patient counts currently in the integration environment."
   ]
  },
  {
   "cell_type": "code",
   "execution_count": null,
   "id": "6104abab",
   "metadata": {},
   "outputs": [],
   "source": [
    "# Start a new query and initialize output dictionary\n",
    "patient_count_query = int_resource.query()\n",
    "output = {}\n",
    "\n",
    "# Get patient counts for each consent group\n",
    "for consentGroup in full_phs:\n",
    "    print(consentGroup)\n",
    "    patient_count_query.filter().delete(\"\\\\_consents\\\\\") # Delete all consents\n",
    "    patient_count_query.filter().add(\"\\\\_consents\\\\\", consentGroup) # Add back consent group of interest\n",
    "    patient_count = patient_count_query.getCount() # Get patient count\n",
    "    output[consentGroup] = patient_count # Add to output"
   ]
  },
  {
   "cell_type": "markdown",
   "id": "2892bd89",
   "metadata": {},
   "source": [
    "### Compare the values to the reference file\n",
    "Finally we will compare the values from the reference file to the counts in the integration environment."
   ]
  },
  {
   "cell_type": "code",
   "execution_count": null,
   "id": "256af1bc",
   "metadata": {},
   "outputs": [],
   "source": [
    "for consent_val in output.keys():\n",
    "    ref_count = int(patient_ref_file[patient_ref_file['consent'] == consent_val]['patient_count']) # Count from reference file\n",
    "    integration_count = output[consent_val] # Count from integration environment\n",
    "    # Display result message\n",
    "    if ref_count == integration_count:\n",
    "        print(consent_val, \"passes validation\")\n",
    "    else:\n",
    "        print('***DID NOT PASS VALIDATION:', consent_val)\n",
    "        print('Expected count from Patient_Count_Per_Consents.csv:\\t', ref_count)\n",
    "        print('Count retrieved from integration environment:\\t', integration_count)"
   ]
  },
  {
   "cell_type": "markdown",
   "id": "60f5218b",
   "metadata": {},
   "source": [
    "## Validation: Data dictionary comparison\n",
    "The purpose of this section is to compare the data dictionaries of the production and integration environments. These data dictionaries should be identical besides the studies that are being loaded and/or updated."
   ]
  },
  {
   "cell_type": "markdown",
   "id": "cf1b6d18",
   "metadata": {},
   "source": [
    "### Establish connection to production environment"
   ]
  },
  {
   "cell_type": "code",
   "execution_count": null,
   "id": "7e08d329",
   "metadata": {},
   "outputs": [],
   "source": [
    "production_PICSURE_network_URL = \"https://picsure.biodatacatalyst.nhlbi.nih.gov/picsure\"\n",
    "prod_resource_id = \"02e23f52-f354-4e8b-992c-d37c8b9ba140\"\n",
    "production_token_file = \"prod_token.txt\""
   ]
  },
  {
   "cell_type": "code",
   "execution_count": null,
   "id": "4bcb8a74",
   "metadata": {},
   "outputs": [],
   "source": [
    "with open(production_token_file, \"r\") as f:\n",
    "    my_prod_token = f.read()"
   ]
  },
  {
   "cell_type": "code",
   "execution_count": null,
   "id": "a91fe1b7",
   "metadata": {},
   "outputs": [],
   "source": [
    "prod_client = PicSureClient.Client()\n",
    "prod_connection = prod_client.connect(production_PICSURE_network_URL, my_prod_token, True)\n",
    "prod_adapter = PicSureBdcAdapter.Adapter(prod_connection)\n",
    "prod_resource = prod_adapter.useResource(prod_resource_id)"
   ]
  },
  {
   "cell_type": "markdown",
   "id": "b4c69b7e",
   "metadata": {},
   "source": [
    "### Load data dictionaries\n",
    "Next we will load the data dictionaries from the integration and production environments as dataframes. These will be used to compare the environments."
   ]
  },
  {
   "cell_type": "code",
   "execution_count": null,
   "id": "99ab1bc6",
   "metadata": {},
   "outputs": [],
   "source": [
    "int_dictionary = int_resource.dictionary()\n",
    "prod_dictionary = prod_resource.dictionary()"
   ]
  },
  {
   "cell_type": "code",
   "execution_count": null,
   "id": "d26fd982",
   "metadata": {},
   "outputs": [],
   "source": [
    "integ = int_dictionary.find().DataFrame()"
   ]
  },
  {
   "cell_type": "code",
   "execution_count": null,
   "id": "0877db3a",
   "metadata": {},
   "outputs": [],
   "source": [
    "prod = prod_dictionary.find().DataFrame()"
   ]
  },
  {
   "cell_type": "markdown",
   "id": "2872bd26",
   "metadata": {},
   "source": [
    "### Compare dictionaries\n",
    "The following comparisons will be made between the dictionaries:\n",
    "1. Find concept paths that exist in integration, but not production\n",
    "2. Find concept paths that exist in production, but not integration\n",
    "3. Identify differences in the dataframe between integration and production"
   ]
  },
  {
   "cell_type": "markdown",
   "id": "11b789c0",
   "metadata": {},
   "source": [
    "The first comparisons use the concept paths, which we will extract and compare now."
   ]
  },
  {
   "cell_type": "code",
   "execution_count": null,
   "id": "82941dde",
   "metadata": {},
   "outputs": [],
   "source": [
    "integration = list(integ.index)\n",
    "production = list(prod.index)"
   ]
  },
  {
   "cell_type": "code",
   "execution_count": null,
   "id": "094bd50e",
   "metadata": {},
   "outputs": [],
   "source": [
    "# FIRST COMPARISON\n",
    "# In integration, but not production\n",
    "diff = list(set(integration)-set(production))\n",
    "\n",
    "# Filter out the newly loaded studies\n",
    "wrong = []\n",
    "for i in diff:\n",
    "    if not any(study in i for study in to_validate):\n",
    "        wrong.append(i)\n",
    "\n",
    "if len(wrong)<1:\n",
    "    print(\"All concepts in production are in integration.\")\n",
    "else:\n",
    "    print(\"The following concepts are in integration but not production:\")\n",
    "    for i in wrong:\n",
    "        print(i)"
   ]
  },
  {
   "cell_type": "code",
   "execution_count": null,
   "id": "13139916",
   "metadata": {},
   "outputs": [],
   "source": [
    "# SECOND COMPARISON\n",
    "# In production, but not integration\n",
    "diff2 = list(set(production)-set(integration))\n",
    "\n",
    "if len(diff2)<1:\n",
    "    print(\"All concepts in integration are in production.\")\n",
    "else:\n",
    "    print(\"The following concepts are in integration but not in production:\")\n",
    "    for i in diff2:\n",
    "        print(i)"
   ]
  },
  {
   "cell_type": "markdown",
   "id": "ddddd00b",
   "metadata": {},
   "source": [
    "The third comparison compares the data in the data dictionary. The following function iterates through each row of the data dictionary and compares the integration and production results."
   ]
  },
  {
   "cell_type": "code",
   "execution_count": null,
   "id": "416242b6",
   "metadata": {},
   "outputs": [],
   "source": [
    "# THIRD COMPARISON\n",
    "# Initializing variables used in function\n",
    "columns = ['min', 'max', \n",
    "           'patientCount', 'observationCount', \n",
    "           'categorical', 'HpdsDataType', \n",
    "           'categoryValues', 'description'] # Names of columns in data dictionary\n",
    "to_check = {} # Results dictionary\n",
    "\n",
    "# Genomic variables \n",
    "genome_vars = ['Variant_consequence_calculated', \n",
    "               'Gene_with_variant', \n",
    "               'Variant_class', 'Variant_frequency_as_text', \n",
    "               'Variant_severity']\n",
    "genome_keys = ['patientCount', 'observationCount']"
   ]
  },
  {
   "cell_type": "markdown",
   "id": "f09d80da",
   "metadata": {},
   "source": [
    "Specify if the harmonized concept paths should be compared. If a harmonized study was added, set `harmonized_added = True`. If a harmonized study was not added, set `harmonized_added = False`.\n",
    "\n",
    "This information is used to improve the comparison process. If a harmonized study was added, we expect all `DCC Harmonized data set` concept paths to be different. So, in this scenario, these concepts paths do not need to be compared."
   ]
  },
  {
   "cell_type": "code",
   "execution_count": null,
   "id": "7181542c",
   "metadata": {},
   "outputs": [],
   "source": [
    "# Change to true if harmonized were added, false if not.\n",
    "harmonized_added = True"
   ]
  },
  {
   "cell_type": "markdown",
   "id": "dc76f497",
   "metadata": {},
   "source": [
    "*Please note these cells take a while to run.*"
   ]
  },
  {
   "cell_type": "code",
   "execution_count": null,
   "id": "0c2d51ff",
   "metadata": {},
   "outputs": [],
   "source": [
    "# Compare each row and column of the integration and production data dictionaries\n",
    "\n",
    "\n",
    "for integ_key in integration:\n",
    "    # Skip the concept paths in integration and not in production (defined above as 'diff')\n",
    "    if integ_key not in diff:\n",
    "        # Skip harmonized concept paths if harmonized study was added\n",
    "        if harmonized_added == True and '\\\\DCC Harmonized data set\\\\' in integ_key:\n",
    "            continue\n",
    "        \n",
    "        mini_list = []\n",
    "        # Iterate through columns of data dictionary\n",
    "        for i in columns:\n",
    "            # Account for instances where min and max could be nan\n",
    "            if i in ['min', 'max']:\n",
    "                isitnan1 = math.isnan(integ.loc[integ_key][i])\n",
    "                isitnan2 = math.isnan(prod.loc[integ_key][i])\n",
    "                if isitnan1 and isitnan2: # Test if both are nan - if so, pass match test\n",
    "                    test = True\n",
    "                else: # If not nan, test if values match\n",
    "                    test = integ.loc[integ_key][i] == prod.loc[integ_key][i]\n",
    "                    \n",
    "            # Genomic variables are recorded differently - this section accounts for nans\n",
    "            elif i in genome_keys:\n",
    "                # Account for unique instances\n",
    "                if integ_key in genome_vars: # Check if both are nans\n",
    "                    test = math.isnan(integ.loc[integ_key][i]) == math.isnan(prod.loc[integ_key][i])\n",
    "                else: # Check if values match\n",
    "                    test = integ.loc[integ_key][i] == prod.loc[integ_key][i]\n",
    "                    \n",
    "            # Account for all other rows\n",
    "            else:\n",
    "                test = integ.loc[integ_key][i] == prod.loc[integ_key][i]\n",
    "            \n",
    "            # Record each column that doesn't pass validation\n",
    "            if test == False:\n",
    "                mini_list.append(i)\n",
    "                #print(integ_key, '\\n', i) # Option to print rows and columns that do not match\n",
    "        if len(mini_list) > 0:\n",
    "            to_check[integ_key] = mini_list"
   ]
  },
  {
   "cell_type": "code",
   "execution_count": null,
   "id": "ac3d3006",
   "metadata": {},
   "outputs": [],
   "source": [
    "# View differing results\n",
    "misc_consents = ['\\\\_consents\\\\', '\\\\_studies_consents\\\\', \n",
    "                 '\\\\_Parent Study Accession with Subject ID\\\\', \n",
    "                 '\\\\_parent_consents\\\\'] # Concept paths that we expect to be different with newly loaded studies\n",
    "\n",
    "if harmonized_added == True:\n",
    "    misc_consents.append('\\\\_harmonized_consent\\\\')\n",
    "    \n",
    "for key in to_check.keys():\n",
    "    i = 0\n",
    "    if key not in misc_consents:\n",
    "        print(\"\\nConcept path that differs in data dictionaries:\")\n",
    "        print(key)\n",
    "        print(\"\\nColumns that do not match:\")\n",
    "        for obs in to_check[key]:\n",
    "            print(obs)\n",
    "            print(\"\\tIntegration value:\", integ.loc[key][obs])\n",
    "            print(\"\\tProduction value:\", prod.loc[key][obs])"
   ]
  }
 ],
 "metadata": {
  "kernelspec": {
   "display_name": "conda_python3",
   "language": "python",
   "name": "conda_python3"
  },
  "language_info": {
   "codemirror_mode": {
    "name": "ipython",
    "version": 3
   },
   "file_extension": ".py",
   "mimetype": "text/x-python",
   "name": "python",
   "nbconvert_exporter": "python",
   "pygments_lexer": "ipython3",
   "version": "3.6.13"
  }
 },
 "nbformat": 4,
 "nbformat_minor": 5
}
