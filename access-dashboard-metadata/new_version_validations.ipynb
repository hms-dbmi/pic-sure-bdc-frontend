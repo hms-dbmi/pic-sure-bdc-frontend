{
 "cells": [
  {
   "cell_type": "markdown",
   "id": "25fffa20",
   "metadata": {},
   "source": [
    "# New version validations\n",
    "The purpose of this notebook is to check the subject IDs of new versions of studies. This is to ensure that the subject IDs are not changing, which could cause problems with genomic data or incorrect patient mapping in PIC-SURE."
   ]
  },
  {
   "cell_type": "markdown",
   "id": "9dd05981",
   "metadata": {},
   "source": [
    "### Prerequisites\n",
    "- Access to the S3 bucket\n",
    "- Files from new study version downloaded via \"Pull raw data from gen3\" Jenkins job"
   ]
  },
  {
   "cell_type": "code",
   "execution_count": null,
   "id": "09e5128a",
   "metadata": {},
   "outputs": [],
   "source": [
    "import pandas as pd\n",
    "from check_version_utils import check_new_version, check_new_df"
   ]
  },
  {
   "cell_type": "code",
   "execution_count": null,
   "id": "49bb6cd3",
   "metadata": {},
   "outputs": [],
   "source": [
    "# Change directory to the directories with files of interest\n",
    "old_dir = '/home/ec2-user/SageMaker/studies/ALL-avillach-73-bdcatalyst-etl/aric/rawDataOld/' # old version files\n",
    "new_dir = '/home/ec2-user/SageMaker/studies/ALL-avillach-73-bdcatalyst-etl/aric/rawData/' # newly downloaded file versions"
   ]
  },
  {
   "cell_type": "markdown",
   "id": "503bfa5d",
   "metadata": {},
   "source": [
    "### Comparing Subject_MULTI files"
   ]
  },
  {
   "cell_type": "code",
   "execution_count": null,
   "id": "7fd7ea8b",
   "metadata": {},
   "outputs": [],
   "source": [
    "# Check all columns of the subject_multi file "
   ]
  },
  {
   "cell_type": "code",
   "execution_count": null,
   "id": "f31cd335",
   "metadata": {},
   "outputs": [],
   "source": [
    "subject_cols = ['INDIVIDUAL_ID', 'SUBJID', 'SUBJECT_ID']\n",
    "exclude_cols = ['DBGAP_SUBJECT_ID']"
   ]
  },
  {
   "cell_type": "code",
   "execution_count": null,
   "id": "2f615079",
   "metadata": {},
   "outputs": [],
   "source": [
    "old_sub_multi = old_dir+'phs000280.v5.pht001440.v5.p1.ARIC_Subject.MULTI.txt'\n",
    "new_sub_multi = new_dir+'phs000280.v7.pht001440.v5.p1.ARIC_Subject.MULTI.txt'"
   ]
  },
  {
   "cell_type": "code",
   "execution_count": null,
   "id": "7d49f145",
   "metadata": {},
   "outputs": [],
   "source": [
    "old_diffs, new_diffs = check_new_version(old_sub_multi, new_sub_multi, subject_cols)"
   ]
  },
  {
   "cell_type": "code",
   "execution_count": null,
   "id": "aec96798",
   "metadata": {},
   "outputs": [],
   "source": [
    "old_data, new_data = check_new_df(old_sub_multi, new_sub_multi, include_cols=None, \n",
    "             exclude_cols = exclude_cols, old_diffs=old_diffs, new_diffs=new_diffs)"
   ]
  },
  {
   "cell_type": "code",
   "execution_count": null,
   "id": "ddb710be",
   "metadata": {},
   "outputs": [],
   "source": [
    "# Manual inspection of dataframes\n",
    "#old = pd.read_csv(old_sub_multi, sep = '\\t', skiprows=10)\n",
    "#new = pd.read_csv(new_sub_multi, sep = '\\t', skiprows=10)\n",
    "#old\n",
    "#new"
   ]
  },
  {
   "cell_type": "markdown",
   "id": "d0f44eb5",
   "metadata": {},
   "source": [
    "### Comparing Sample_MULTI files"
   ]
  },
  {
   "cell_type": "code",
   "execution_count": null,
   "id": "7840b52e",
   "metadata": {},
   "outputs": [],
   "source": [
    "# Compare the subject_ID and the sample_ID should match for each row"
   ]
  },
  {
   "cell_type": "code",
   "execution_count": null,
   "id": "06ee28e0",
   "metadata": {},
   "outputs": [],
   "source": [
    "old_sam_multi = old_dir+'phs000280.v5.pht001441.v5.p1.ARIC_Sample.MULTI.txt'\n",
    "new_sam_multi = new_dir+'phs000280.v7.pht001441.v7.p1.ARIC_Sample.MULTI.txt'"
   ]
  },
  {
   "cell_type": "code",
   "execution_count": null,
   "id": "c6b5384d",
   "metadata": {},
   "outputs": [],
   "source": [
    "sample_cols = ['SAMPID', 'SAMPLE_ID', 'SAMPLEID']\n",
    "include_cols = sample_cols+subject_cols"
   ]
  },
  {
   "cell_type": "code",
   "execution_count": null,
   "id": "687318f6",
   "metadata": {},
   "outputs": [],
   "source": [
    "old_diffs, new_diffs = check_new_version(old_sam_multi, new_sam_multi, sample_cols)"
   ]
  },
  {
   "cell_type": "code",
   "execution_count": null,
   "id": "616c5d2c",
   "metadata": {},
   "outputs": [],
   "source": [
    "new_diffs"
   ]
  },
  {
   "cell_type": "code",
   "execution_count": null,
   "id": "9403eeb2",
   "metadata": {},
   "outputs": [],
   "source": [
    "old_data, new_data = check_new_df(old_sam_multi, new_sam_multi, include_cols=include_cols, \n",
    "             exclude_cols = None, old_diffs=old_diffs, new_diffs=new_diffs)"
   ]
  },
  {
   "cell_type": "code",
   "execution_count": null,
   "id": "fd3ffde1",
   "metadata": {},
   "outputs": [],
   "source": [
    "# Manual inspection of dataframes\n",
    "#old = pd.read_csv(old_sam_multi, sep = '\\t', skiprows=10)\n",
    "#new = pd.read_csv(new_sam_multi, sep = '\\t', skiprows=10)\n",
    "#old\n",
    "#new"
   ]
  }
 ],
 "metadata": {
  "kernelspec": {
   "display_name": "conda_python3",
   "language": "python",
   "name": "conda_python3"
  },
  "language_info": {
   "codemirror_mode": {
    "name": "ipython",
    "version": 3
   },
   "file_extension": ".py",
   "mimetype": "text/x-python",
   "name": "python",
   "nbconvert_exporter": "python",
   "pygments_lexer": "ipython3",
   "version": "3.6.13"
  }
 },
 "nbformat": 4,
 "nbformat_minor": 5
}
