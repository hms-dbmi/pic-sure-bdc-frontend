{
 "cells": [
  {
   "cell_type": "markdown",
   "id": "e25c85d6",
   "metadata": {},
   "source": [
    "# New version validations\n",
    "The purpose of this notebook is to check the subject IDs of new versions of studies. This is to ensure that the subject IDs are not changing, which could cause problems with genomic data or incorrect patient mapping in PIC-SURE."
   ]
  },
  {
   "cell_type": "markdown",
   "id": "cb8cbe1e",
   "metadata": {},
   "source": [
    "### Prerequisites\n",
    "- Access to the S3 bucket\n",
    "- Files from new study version downloaded via \"Pull raw data from gen3\" Jenkins job"
   ]
  },
  {
   "cell_type": "code",
   "execution_count": null,
   "id": "349212a9",
   "metadata": {},
   "outputs": [],
   "source": [
    "import pandas as pd\n",
    "from check_version_utils import check_new_version, check_new_df"
   ]
  },
  {
   "cell_type": "code",
   "execution_count": null,
   "id": "aa58e9a1",
   "metadata": {},
   "outputs": [],
   "source": [
    "# Change directory to the directories with files of interest\n",
    "old_dir = '/home/ec2-user/SageMaker/studies/ALL-avillach-73-bdcatalyst-etl/aric/rawDataOld/' # old version files\n",
    "new_dir = '/home/ec2-user/SageMaker/studies/ALL-avillach-73-bdcatalyst-etl/aric/rawData/' # newly downloaded file versions"
   ]
  },
  {
   "cell_type": "markdown",
   "id": "bfd3ba2a",
   "metadata": {},
   "source": [
    "### Comparing Subject_MULTI files"
   ]
  },
  {
   "cell_type": "code",
   "execution_count": null,
   "id": "1bbe4656",
   "metadata": {},
   "outputs": [],
   "source": [
    "# Check all columns of the subject_multi file "
   ]
  },
  {
   "cell_type": "code",
   "execution_count": null,
   "id": "09013814",
   "metadata": {},
   "outputs": [],
   "source": [
    "subject_cols = ['INDIVIDUAL_ID', 'SUBJID', 'SUBJECT_ID']\n",
    "exclude_cols = ['DBGAP_SUBJECT_ID']"
   ]
  },
  {
   "cell_type": "code",
   "execution_count": null,
   "id": "6446439d",
   "metadata": {},
   "outputs": [],
   "source": [
    "old_sub_multi = old_dir+'phs000280.v5.pht001440.v5.p1.ARIC_Subject.MULTI.txt'\n",
    "new_sub_multi = new_dir+'phs000280.v7.pht001440.v5.p1.ARIC_Subject.MULTI.txt'"
   ]
  },
  {
   "cell_type": "code",
   "execution_count": null,
   "id": "7003d90f",
   "metadata": {},
   "outputs": [],
   "source": [
    "old_diffs, new_diffs = check_new_version(old_sub_multi, new_sub_multi, subject_cols)"
   ]
  },
  {
   "cell_type": "code",
   "execution_count": null,
   "id": "8dc08da3",
   "metadata": {},
   "outputs": [],
   "source": [
    "old_data, new_data = check_new_df(old_sub_multi, new_sub_multi, include_cols=None, \n",
    "             exclude_cols = exclude_cols, old_diffs=old_diffs, new_diffs=new_diffs)"
   ]
  },
  {
   "cell_type": "code",
   "execution_count": null,
   "id": "9feaea3f",
   "metadata": {},
   "outputs": [],
   "source": [
    "# Manual inspection of dataframes\n",
    "#old = pd.read_csv(old_sub_multi, sep = '\\t', skiprows=10)\n",
    "#new = pd.read_csv(new_sub_multi, sep = '\\t', skiprows=10)\n",
    "#old\n",
    "#new"
   ]
  },
  {
   "cell_type": "markdown",
   "id": "80208fc5",
   "metadata": {},
   "source": [
    "### Comparing Sample_MULTI files"
   ]
  },
  {
   "cell_type": "code",
   "execution_count": null,
   "id": "65f8e820",
   "metadata": {},
   "outputs": [],
   "source": [
    "# Compare the subject_ID and the sample_ID should match for each row"
   ]
  },
  {
   "cell_type": "code",
   "execution_count": null,
   "id": "41071ac0",
   "metadata": {},
   "outputs": [],
   "source": [
    "old_sam_multi = old_dir+'phs000280.v5.pht001441.v5.p1.ARIC_Sample.MULTI.txt'\n",
    "new_sam_multi = new_dir+'phs000280.v7.pht001441.v7.p1.ARIC_Sample.MULTI.txt'"
   ]
  },
  {
   "cell_type": "code",
   "execution_count": null,
   "id": "3083e959",
   "metadata": {},
   "outputs": [],
   "source": [
    "sample_cols = ['SAMPID', 'SAMPLE_ID', 'SAMPLEID']\n",
    "include_cols = sample_cols+subject_cols"
   ]
  },
  {
   "cell_type": "code",
   "execution_count": null,
   "id": "fb634a2d",
   "metadata": {},
   "outputs": [],
   "source": [
    "old_diffs, new_diffs = check_new_version(old_sam_multi, new_sam_multi, sample_cols)"
   ]
  },
  {
   "cell_type": "code",
   "execution_count": null,
   "id": "57cfba09",
   "metadata": {},
   "outputs": [],
   "source": [
    "new_diffs"
   ]
  },
  {
   "cell_type": "code",
   "execution_count": null,
   "id": "481ae9ce",
   "metadata": {},
   "outputs": [],
   "source": [
    "old_data, new_data = check_new_df(old_sam_multi, new_sam_multi, include_cols=include_cols, \n",
    "             exclude_cols = None, old_diffs=old_diffs, new_diffs=new_diffs)"
   ]
  },
  {
   "cell_type": "code",
   "execution_count": null,
   "id": "d4d869a4",
   "metadata": {},
   "outputs": [],
   "source": [
    "# Manual inspection of dataframes\n",
    "#old = pd.read_csv(old_sam_multi, sep = '\\t', skiprows=10)\n",
    "#new = pd.read_csv(new_sam_multi, sep = '\\t', skiprows=10)\n",
    "#old\n",
    "#new"
   ]
  },
  {
   "cell_type": "markdown",
   "id": "267f5244",
   "metadata": {},
   "source": [
    "### Below is helpful code for manually troubleshooting"
   ]
  },
  {
   "cell_type": "code",
   "execution_count": null,
   "id": "3f13166a",
   "metadata": {},
   "outputs": [],
   "source": [
    "# Merging on specific columns and getting the difference between datasets\n",
    "#diffs = newsub.merge(oldsub, how='outer', on=['SUBJECT_ID', 'SAMPLE_ID', 'BioSample Accession'], indicator=True)\n",
    "#res = diffs[diffs._merge == 'right_only']"
   ]
  }
 ],
 "metadata": {
  "kernelspec": {
   "display_name": "conda_python3",
   "language": "python",
   "name": "conda_python3"
  },
  "language_info": {
   "codemirror_mode": {
    "name": "ipython",
    "version": 3
   },
   "file_extension": ".py",
   "mimetype": "text/x-python",
   "name": "python",
   "nbconvert_exporter": "python",
   "pygments_lexer": "ipython3",
   "version": "3.6.13"
  }
 },
 "nbformat": 4,
 "nbformat_minor": 5
}
