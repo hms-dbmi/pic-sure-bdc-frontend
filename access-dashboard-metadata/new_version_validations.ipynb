{
 "cells": [
  {
   "cell_type": "markdown",
   "id": "4d0cbfc8",
   "metadata": {},
   "source": [
    "# New version validations\n",
    "The purpose of this notebook is to check the subject IDs of new versions of studies. This is to ensure that the subject IDs are not changing, which could cause problems with genomic data or incorrect patient mapping in PIC-SURE."
   ]
  },
  {
   "cell_type": "markdown",
   "id": "c41cbc79",
   "metadata": {},
   "source": [
    "### Prerequisites\n",
    "- Access to the S3 bucket\n",
    "- Files from new study version downloaded via \"Pull raw data from gen3\" Jenkins job"
   ]
  },
  {
   "cell_type": "code",
   "execution_count": null,
   "id": "5043c83c",
   "metadata": {},
   "outputs": [],
   "source": [
    "import pandas as pd"
   ]
  },
  {
   "cell_type": "code",
   "execution_count": null,
   "id": "1f53291b",
   "metadata": {},
   "outputs": [],
   "source": [
    "# Change directory to the directories with files of interest\n",
    "old_dir = '/home/ec2-user/SageMaker/studies/ALL-avillach-73-bdcatalyst-etl/chs/rawDataOld/' # old version files\n",
    "new_dir = '/home/ec2-user/SageMaker/studies/ALL-avillach-73-bdcatalyst-etl/chs/rawData/' # newly downloaded file versions"
   ]
  },
  {
   "cell_type": "markdown",
   "id": "f7da716e",
   "metadata": {},
   "source": [
    "### Comparing Subject_MULTI files"
   ]
  },
  {
   "cell_type": "code",
   "execution_count": null,
   "id": "38f94435",
   "metadata": {},
   "outputs": [],
   "source": [
    "potential_cols = ['INDIVIDUAL_ID']"
   ]
  },
  {
   "cell_type": "code",
   "execution_count": null,
   "id": "046e19af",
   "metadata": {},
   "outputs": [],
   "source": [
    "old_sub_multi = old_dir+'phs000287.v6.pht001447.v4.p1.CHS_Subject.MULTI.txt'\n",
    "new_sub_multi = new_dir+'phs000287.v7.pht001447.v4.p1.CHS_Subject.MULTI.txt'"
   ]
  },
  {
   "cell_type": "code",
   "execution_count": null,
   "id": "b7a7c886",
   "metadata": {},
   "outputs": [],
   "source": [
    "osm = pd.read_csv(old_sub_multi, sep = '\\t', skiprows=10)\n",
    "nsm = pd.read_csv(new_sub_multi, sep = '\\t', skiprows=10)"
   ]
  },
  {
   "cell_type": "code",
   "execution_count": null,
   "id": "eb82506b",
   "metadata": {},
   "outputs": [],
   "source": [
    "fudge_data = pd.DataFrame([[5, 6, 7, 8, 9], [7, 8, 9, 10, 11]], columns=osm.columns)\n",
    "fudge_data"
   ]
  },
  {
   "cell_type": "code",
   "execution_count": null,
   "id": "dbdc15f7",
   "metadata": {},
   "outputs": [],
   "source": [
    "osm = osm.append(fudge_data, ignore_index = True)\n",
    "osm"
   ]
  },
  {
   "cell_type": "code",
   "execution_count": null,
   "id": "11de29c1",
   "metadata": {},
   "outputs": [],
   "source": [
    "for col in osm.columns:\n",
    "    if col.upper() in potential_cols:\n",
    "        #print(col)\n",
    "        compare_col = col\n",
    "if compare_col not in nsm.columns:\n",
    "    print(\"Manual inspection of columns needed\")\n",
    "else:\n",
    "    print(compare_col)"
   ]
  },
  {
   "cell_type": "code",
   "execution_count": null,
   "id": "264910fd",
   "metadata": {},
   "outputs": [],
   "source": [
    "in_new_not_old = list(set(nsm[compare_col])-set(osm[compare_col]))\n",
    "in_old_not_new =list(set(osm[compare_col])-set(nsm[compare_col]))"
   ]
  },
  {
   "cell_type": "code",
   "execution_count": null,
   "id": "baf8c8fa",
   "metadata": {},
   "outputs": [],
   "source": [
    "if len(in_new_not_old) == 0:\n",
    "    print(\"All\", compare_col, \"in new version are in old\")\n",
    "else:\n",
    "    print(\"There are\", len(in_new_not_old), \"IDs in new version not in old\")\n",
    "if len(in_old_not_new) == 0:\n",
    "    print(\"All\", compare_col, \"in old version are in new\")\n",
    "else:\n",
    "    print(\"There are\", len(in_old_not_new), \"IDs in old version not in new\")"
   ]
  },
  {
   "cell_type": "code",
   "execution_count": null,
   "id": "b5e45d21",
   "metadata": {},
   "outputs": [],
   "source": [
    "# Code to investigate the IDs that are different between the version\n",
    "old_diffs = osm[osm[compare_col].isin(in_old_not_new)]\n",
    "if old_diffs.shape[0] != 0:\n",
    "    print(\"Rows in old not in new:\\n\")\n",
    "    print(old_diffs)\n",
    "new_diffs = nsm[nsm[compare_col].isin(in_new_not_old)]\n",
    "if new_diffs.shape[0] != 0:\n",
    "    print(\"Rows in new not in old:\\n\")\n",
    "    print(new_diffs)"
   ]
  },
  {
   "cell_type": "markdown",
   "id": "1022e16c",
   "metadata": {},
   "source": [
    "### Comparing Sample_MULTI files"
   ]
  },
  {
   "cell_type": "code",
   "execution_count": null,
   "id": "9ae0193c",
   "metadata": {},
   "outputs": [],
   "source": [
    "potential_cols = ['SAMPID', 'SAMPLE_ID', 'SAMPLEID']"
   ]
  },
  {
   "cell_type": "code",
   "execution_count": null,
   "id": "3e632250",
   "metadata": {},
   "outputs": [],
   "source": [
    "old_sam_multi = old_dir+'phs000287.v6.pht001448.v6.p1.CHS_Sample.MULTI.txt'\n",
    "new_sam_multi = new_dir+'phs000287.v7.pht001448.v7.p1.CHS_Sample.MULTI.txt'"
   ]
  },
  {
   "cell_type": "code",
   "execution_count": null,
   "id": "2d628a62",
   "metadata": {},
   "outputs": [],
   "source": [
    "oam = pd.read_csv(old_sam_multi, sep = '\\t', skiprows=10)\n",
    "nam = pd.read_csv(new_sam_multi, sep = '\\t', skiprows=10)"
   ]
  },
  {
   "cell_type": "code",
   "execution_count": null,
   "id": "a368112b",
   "metadata": {},
   "outputs": [],
   "source": [
    "for col in oam.columns:\n",
    "    if col.upper() in potential_cols:\n",
    "        #print(col)\n",
    "        compare_col = col\n",
    "if compare_col not in nam.columns:\n",
    "    print(\"Manual inspection of columns needed\")\n",
    "else:\n",
    "    print(compare_col)"
   ]
  },
  {
   "cell_type": "code",
   "execution_count": null,
   "id": "614bbc2f",
   "metadata": {},
   "outputs": [],
   "source": [
    "in_new_not_old = list(set(nam[compare_col])-set(oam[compare_col]))\n",
    "in_old_not_new =list(set(oam[compare_col])-set(nam[compare_col]))"
   ]
  },
  {
   "cell_type": "code",
   "execution_count": null,
   "id": "61e368bb",
   "metadata": {},
   "outputs": [],
   "source": [
    "if len(in_new_not_old) == 0:\n",
    "    print(\"All\", compare_col, \"in new version are in old\")\n",
    "else:\n",
    "    print(\"There are\", len(in_new_not_old), \"IDs in new version not in old\")\n",
    "if len(in_old_not_new) == 0:\n",
    "    print(\"All\", compare_col, \"in old version are in new\")\n",
    "else:\n",
    "    print(\"There are\", len(in_old_not_new), \"IDs in old version not in new\")"
   ]
  },
  {
   "cell_type": "code",
   "execution_count": null,
   "id": "ae05bbe4",
   "metadata": {},
   "outputs": [],
   "source": [
    "# Code to investigate the IDs that are different between the version\n",
    "old_diffs = oam[oam[compare_col].isin(in_old_not_new)]\n",
    "if old_diffs.shape[0] != 0:\n",
    "    print(\"Rows in old not in new:\\n\")\n",
    "    print(old_diffs)\n",
    "new_diffs = nam[nam[compare_col].isin(in_new_not_old)]\n",
    "if new_diffs.shape[0] != 0:\n",
    "    print(\"Rows in new not in old:\\n\")\n",
    "    print(new_diffs)"
   ]
  },
  {
   "cell_type": "code",
   "execution_count": null,
   "id": "e2d23b2a",
   "metadata": {},
   "outputs": [],
   "source": []
  }
 ],
 "metadata": {
  "kernelspec": {
   "display_name": "conda_python3",
   "language": "python",
   "name": "conda_python3"
  },
  "language_info": {
   "codemirror_mode": {
    "name": "ipython",
    "version": 3
   },
   "file_extension": ".py",
   "mimetype": "text/x-python",
   "name": "python",
   "nbconvert_exporter": "python",
   "pygments_lexer": "ipython3",
   "version": "3.6.13"
  }
 },
 "nbformat": 4,
 "nbformat_minor": 5
}
