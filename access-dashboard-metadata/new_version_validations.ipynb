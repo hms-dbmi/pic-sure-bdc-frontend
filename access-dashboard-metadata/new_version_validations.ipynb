{
 "cells": [
  {
   "cell_type": "markdown",
   "id": "1807d0f1",
   "metadata": {},
   "source": [
    "# New version validations\n",
    "The purpose of this notebook is to check the subject IDs of new versions of studies. This is to ensure that the sunject IDs are not changing, which could cause problems with genomic data or incorrect patient mapping in PIC-SURE."
   ]
  },
  {
   "cell_type": "markdown",
   "id": "2222c042",
   "metadata": {},
   "source": [
    "### Prerequisites\n",
    "- Access to the S3 bucket\n",
    "- Files from new study version downloaded via \"Pull raw data from gen3\" Jenkins job"
   ]
  },
  {
   "cell_type": "code",
   "execution_count": null,
   "id": "1fe37b43",
   "metadata": {},
   "outputs": [],
   "source": [
    "import pandas as pd"
   ]
  },
  {
   "cell_type": "code",
   "execution_count": null,
   "id": "7ba08c79",
   "metadata": {},
   "outputs": [],
   "source": [
    "# Change directory to the directories with files of interest\n",
    "old_dir = '/home/ec2-user/SageMaker/studies/ALL-avillach-73-bdcatalyst-etl/chs/rawDataOld/' # old version files\n",
    "new_dir = '/home/ec2-user/SageMaker/studies/ALL-avillach-73-bdcatalyst-etl/chs/rawData/' # newly downloaded file versions"
   ]
  },
  {
   "cell_type": "markdown",
   "id": "4e27587b",
   "metadata": {},
   "source": [
    "### Comparing Subject_MULTI files"
   ]
  },
  {
   "cell_type": "code",
   "execution_count": null,
   "id": "fd0acda7",
   "metadata": {},
   "outputs": [],
   "source": [
    "old_sub_multi = old_dir+'phs000287.v6.pht001447.v4.p1.CHS_Subject.MULTI.txt'\n",
    "new_sub_multi = new_dir+'phs000287.v7.pht001447.v4.p1.CHS_Subject.MULTI.txt'"
   ]
  },
  {
   "cell_type": "code",
   "execution_count": null,
   "id": "af26b2af",
   "metadata": {},
   "outputs": [],
   "source": [
    "osm = pd.read_csv(old_sub_multi, sep = '\\t', skiprows=10).drop(columns=osm.columns[0])\n",
    "nsm = pd.read_csv(new_sub_multi, sep = '\\t', skiprows=10).drop(columns=nsm.columns[0])"
   ]
  },
  {
   "cell_type": "code",
   "execution_count": null,
   "id": "3e20d1cf",
   "metadata": {},
   "outputs": [],
   "source": [
    "test = pd.concat([osm,nsm]).drop_duplicates(keep=False)\n",
    "if test.shape[0] == 0:\n",
    "    print(\"Columns of the Subject_MULTI file match\")\n",
    "else:\n",
    "    print(\"Columns of the Subject_MULTI file do not match\")\n",
    "    print(test)"
   ]
  },
  {
   "cell_type": "markdown",
   "id": "d04787d3",
   "metadata": {},
   "source": [
    "### Comparing Sample_MULTI files"
   ]
  },
  {
   "cell_type": "code",
   "execution_count": null,
   "id": "4534f7d5",
   "metadata": {},
   "outputs": [],
   "source": [
    "old_sam_multi = old_dir+'phs000287.v6.pht001448.v6.p1.CHS_Sample.MULTI.txt'\n",
    "new_sam_multi = new_dir+'phs000287.v7.pht001448.v7.p1.CHS_Sample.MULTI.txt'"
   ]
  },
  {
   "cell_type": "code",
   "execution_count": null,
   "id": "575e7225",
   "metadata": {},
   "outputs": [],
   "source": [
    "cols_to_keep = ['BioSample Accession', 'Individual_ID', 'SAMPID', 'SAMP_SOURCE', 'SOURCE_SAMPID']\n",
    "cols_to_drop = ['dbGaP_Subject_ID', 'dbGaP_Sample_ID', 'STUDY', 'SAMPLE_USE']"
   ]
  },
  {
   "cell_type": "code",
   "execution_count": null,
   "id": "086ebac2",
   "metadata": {},
   "outputs": [],
   "source": [
    "oam = pd.read_csv(old_sam_multi, sep = '\\t', skiprows=10).filter(cols_to_keep)#.drop(columns=oam.columns[-1:-3])\n",
    "oam['version'] = 'old'\n",
    "nam = pd.read_csv(new_sam_multi, sep = '\\t', skiprows=10).filter(cols_to_keep)#.drop(columns=nam.columns[-1])\n",
    "nam['version'] = 'new'"
   ]
  },
  {
   "cell_type": "code",
   "execution_count": null,
   "id": "0c021575",
   "metadata": {},
   "outputs": [],
   "source": [
    "oam"
   ]
  },
  {
   "cell_type": "code",
   "execution_count": null,
   "id": "fec7e1ed",
   "metadata": {},
   "outputs": [],
   "source": [
    "nam"
   ]
  },
  {
   "cell_type": "code",
   "execution_count": null,
   "id": "08777280",
   "metadata": {},
   "outputs": [],
   "source": [
    "test2 = pd.concat([oam,nam]).drop_duplicates(subset = cols_to_keep, keep=False)"
   ]
  },
  {
   "cell_type": "code",
   "execution_count": null,
   "id": "cf6a7179",
   "metadata": {},
   "outputs": [],
   "source": [
    "old_dis = test2[test2.version == 'old']\n",
    "old_dis"
   ]
  },
  {
   "cell_type": "code",
   "execution_count": null,
   "id": "fdeb80f5",
   "metadata": {},
   "outputs": [],
   "source": [
    "new_dis = test2[test2.version == 'new']\n",
    "new_dis"
   ]
  },
  {
   "cell_type": "code",
   "execution_count": null,
   "id": "d0aeaec2",
   "metadata": {},
   "outputs": [],
   "source": []
  }
 ],
 "metadata": {
  "kernelspec": {
   "display_name": "conda_python3",
   "language": "python",
   "name": "conda_python3"
  },
  "language_info": {
   "codemirror_mode": {
    "name": "ipython",
    "version": 3
   },
   "file_extension": ".py",
   "mimetype": "text/x-python",
   "name": "python",
   "nbconvert_exporter": "python",
   "pygments_lexer": "ipython3",
   "version": "3.6.13"
  }
 },
 "nbformat": 4,
 "nbformat_minor": 5
}
