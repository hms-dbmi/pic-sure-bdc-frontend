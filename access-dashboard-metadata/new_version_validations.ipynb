{
 "cells": [
  {
   "cell_type": "markdown",
   "id": "b1e346ae",
   "metadata": {},
   "source": [
    "# New version validations\n",
    "The purpose of this notebook is to check the subject IDs of new versions of studies. This is to ensure that the subject IDs are not changing, which could cause problems with genomic data or incorrect patient mapping in PIC-SURE."
   ]
  },
  {
   "cell_type": "markdown",
   "id": "c1af6e6b",
   "metadata": {},
   "source": [
    "### Prerequisites\n",
    "- Access to the S3 bucket\n",
    "- Files from new study version downloaded via \"Pull raw data from gen3\" Jenkins job"
   ]
  },
  {
   "cell_type": "code",
   "execution_count": null,
   "id": "804f193b",
   "metadata": {},
   "outputs": [],
   "source": [
    "import pandas as pd\n",
    "from check_version_utils import check_new_version, check_new_df"
   ]
  },
  {
   "cell_type": "code",
   "execution_count": null,
   "id": "4a8bd841",
   "metadata": {},
   "outputs": [],
   "source": [
    "# Change directory to the directories with files of interest\n",
    "old_dir = '/home/ec2-user/SageMaker/studies/ALL-avillach-73-bdcatalyst-etl/chs/rawDataOld/' # old version files\n",
    "new_dir = '/home/ec2-user/SageMaker/studies/ALL-avillach-73-bdcatalyst-etl/chs/rawData/' # newly downloaded file versions"
   ]
  },
  {
   "cell_type": "markdown",
   "id": "f90587c4",
   "metadata": {},
   "source": [
    "### Comparing Subject_MULTI files"
   ]
  },
  {
   "cell_type": "code",
   "execution_count": null,
   "id": "e0b07e23",
   "metadata": {},
   "outputs": [],
   "source": [
    "# Check all columns of the subject_multi file "
   ]
  },
  {
   "cell_type": "code",
   "execution_count": null,
   "id": "4a11f028",
   "metadata": {},
   "outputs": [],
   "source": [
    "subject_cols = ['INDIVIDUAL_ID']\n",
    "exclude_cols = ['DBGAP_SUBJECT_ID']"
   ]
  },
  {
   "cell_type": "code",
   "execution_count": null,
   "id": "d600e851",
   "metadata": {},
   "outputs": [],
   "source": [
    "old_sub_multi = old_dir+'phs000287.v6.pht001447.v4.p1.CHS_Subject.MULTI.txt'\n",
    "new_sub_multi = new_dir+'phs000287.v7.pht001447.v4.p1.CHS_Subject.MULTI.txt'"
   ]
  },
  {
   "cell_type": "code",
   "execution_count": null,
   "id": "b35295f3",
   "metadata": {},
   "outputs": [],
   "source": [
    "old_diffs, new_diffs = check_new_version(old_sub_multi, new_sub_multi, subject_cols)"
   ]
  },
  {
   "cell_type": "code",
   "execution_count": null,
   "id": "82e55b95",
   "metadata": {},
   "outputs": [],
   "source": [
    "old_data, new_data = check_new_df(old_sub_multi, new_sub_multi, include_cols=None, \n",
    "             exclude_cols = exclude_cols, old_diffs=old_diffs, new_diffs=new_diffs)"
   ]
  },
  {
   "cell_type": "markdown",
   "id": "bf1fa7b8",
   "metadata": {},
   "source": [
    "### Comparing Sample_MULTI files"
   ]
  },
  {
   "cell_type": "code",
   "execution_count": null,
   "id": "e17a5c2b",
   "metadata": {},
   "outputs": [],
   "source": [
    "# Compare the subject_ID and the sample_ID should match for each row"
   ]
  },
  {
   "cell_type": "code",
   "execution_count": null,
   "id": "6f1c5860",
   "metadata": {},
   "outputs": [],
   "source": [
    "sample_cols = ['SAMPID', 'SAMPLE_ID', 'SAMPLEID']\n",
    "include_cols = sample_cols+subject_cols"
   ]
  },
  {
   "cell_type": "code",
   "execution_count": null,
   "id": "0b9f68f1",
   "metadata": {},
   "outputs": [],
   "source": [
    "old_sam_multi = old_dir+'phs000287.v6.pht001448.v6.p1.CHS_Sample.MULTI.txt'\n",
    "new_sam_multi = new_dir+'phs000287.v7.pht001448.v7.p1.CHS_Sample.MULTI.txt'"
   ]
  },
  {
   "cell_type": "code",
   "execution_count": null,
   "id": "9fe9e094",
   "metadata": {},
   "outputs": [],
   "source": [
    "old_diffs, new_diffs = check_new_version(old_sam_multi, new_sam_multi, sample_cols)"
   ]
  },
  {
   "cell_type": "code",
   "execution_count": null,
   "id": "bf33206e",
   "metadata": {},
   "outputs": [],
   "source": [
    "new_diffs"
   ]
  },
  {
   "cell_type": "code",
   "execution_count": null,
   "id": "358cd569",
   "metadata": {},
   "outputs": [],
   "source": [
    "old_data, new_data = check_new_df(old_sam_multi, new_sam_multi, include_cols=include_cols, \n",
    "             exclude_cols = None, old_diffs=old_diffs, new_diffs=new_diffs)"
   ]
  }
 ],
 "metadata": {
  "kernelspec": {
   "display_name": "conda_python3",
   "language": "python",
   "name": "conda_python3"
  },
  "language_info": {
   "codemirror_mode": {
    "name": "ipython",
    "version": 3
   },
   "file_extension": ".py",
   "mimetype": "text/x-python",
   "name": "python",
   "nbconvert_exporter": "python",
   "pygments_lexer": "ipython3",
   "version": "3.6.13"
  }
 },
 "nbformat": 4,
 "nbformat_minor": 5
}
