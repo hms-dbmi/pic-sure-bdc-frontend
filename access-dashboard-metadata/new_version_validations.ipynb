{
 "cells": [
  {
   "cell_type": "markdown",
   "id": "665a0424",
   "metadata": {},
   "source": [
    "# New version validations\n",
    "The purpose of this notebook is to check the subject IDs of new versions of studies. This is to ensure that the subject IDs are not changing, which could cause problems with genomic data or incorrect patient mapping in PIC-SURE."
   ]
  },
  {
   "cell_type": "markdown",
   "id": "8a17d668",
   "metadata": {},
   "source": [
    "### Prerequisites\n",
    "- Access to the S3 bucket\n",
    "- Files from new study version downloaded via \"Pull raw data from gen3\" Jenkins job"
   ]
  },
  {
   "cell_type": "code",
   "execution_count": null,
   "id": "201cf04b",
   "metadata": {},
   "outputs": [],
   "source": [
    "import pandas as pd\n",
    "from check_version_utils import check_new_version, check_new_df"
   ]
  },
  {
   "cell_type": "code",
   "execution_count": null,
   "id": "33465cbe",
   "metadata": {},
   "outputs": [],
   "source": [
    "# Change directory to the directories with files of interest\n",
    "old_dir = '/home/ec2-user/SageMaker/studies/ALL-avillach-73-bdcatalyst-etl/aric/rawDataOld/' # old version files\n",
    "new_dir = '/home/ec2-user/SageMaker/studies/ALL-avillach-73-bdcatalyst-etl/aric/rawData/' # newly downloaded file versions"
   ]
  },
  {
   "cell_type": "markdown",
   "id": "bad2d671",
   "metadata": {},
   "source": [
    "### Comparing Subject_MULTI files"
   ]
  },
  {
   "cell_type": "code",
   "execution_count": null,
   "id": "c8a22d72",
   "metadata": {},
   "outputs": [],
   "source": [
    "# Check all columns of the subject_multi file "
   ]
  },
  {
   "cell_type": "code",
   "execution_count": null,
   "id": "d6f04371",
   "metadata": {},
   "outputs": [],
   "source": [
    "subject_cols = ['INDIVIDUAL_ID', 'SUBJID', 'SUBJECT_ID']\n",
    "exclude_cols = ['DBGAP_SUBJECT_ID']"
   ]
  },
  {
   "cell_type": "code",
   "execution_count": null,
   "id": "a72b3cfa",
   "metadata": {},
   "outputs": [],
   "source": [
    "old_sub_multi = old_dir+'phs000280.v5.pht001440.v5.p1.ARIC_Subject.MULTI.txt'\n",
    "new_sub_multi = new_dir+'phs000280.v7.pht001440.v5.p1.ARIC_Subject.MULTI.txt'"
   ]
  },
  {
   "cell_type": "code",
   "execution_count": null,
   "id": "b0cdc315",
   "metadata": {},
   "outputs": [],
   "source": [
    "old_diffs, new_diffs = check_new_version(old_sub_multi, new_sub_multi, subject_cols)"
   ]
  },
  {
   "cell_type": "code",
   "execution_count": null,
   "id": "7d6bbcf5",
   "metadata": {},
   "outputs": [],
   "source": [
    "old_data, new_data = check_new_df(old_sub_multi, new_sub_multi, include_cols=None, \n",
    "             exclude_cols = exclude_cols, old_diffs=old_diffs, new_diffs=new_diffs)"
   ]
  },
  {
   "cell_type": "code",
   "execution_count": null,
   "id": "7dcc4af7",
   "metadata": {},
   "outputs": [],
   "source": [
    "# Manual inspection of dataframes\n",
    "#old = pd.read_csv(old_sub_multi, sep = '\\t', skiprows=10)\n",
    "#new = pd.read_csv(new_sub_multi, sep = '\\t', skiprows=10)\n",
    "#old\n",
    "#new"
   ]
  },
  {
   "cell_type": "markdown",
   "id": "a002cb40",
   "metadata": {},
   "source": [
    "### Comparing Sample_MULTI files"
   ]
  },
  {
   "cell_type": "code",
   "execution_count": null,
   "id": "7a5e5dca",
   "metadata": {},
   "outputs": [],
   "source": [
    "# Compare the subject_ID and the sample_ID should match for each row"
   ]
  },
  {
   "cell_type": "code",
   "execution_count": null,
   "id": "86a20ab5",
   "metadata": {},
   "outputs": [],
   "source": [
    "old_sam_multi = old_dir+'phs000280.v5.pht001441.v5.p1.ARIC_Sample.MULTI.txt'\n",
    "new_sam_multi = new_dir+'phs000280.v7.pht001441.v7.p1.ARIC_Sample.MULTI.txt'"
   ]
  },
  {
   "cell_type": "code",
   "execution_count": null,
   "id": "cb3744bf",
   "metadata": {},
   "outputs": [],
   "source": [
    "sample_cols = ['SAMPID', 'SAMPLE_ID', 'SAMPLEID']\n",
    "include_cols = sample_cols+subject_cols"
   ]
  },
  {
   "cell_type": "code",
   "execution_count": null,
   "id": "abca642d",
   "metadata": {},
   "outputs": [],
   "source": [
    "old_diffs, new_diffs = check_new_version(old_sam_multi, new_sam_multi, sample_cols)"
   ]
  },
  {
   "cell_type": "code",
   "execution_count": null,
   "id": "45c8977c",
   "metadata": {},
   "outputs": [],
   "source": [
    "new_diffs"
   ]
  },
  {
   "cell_type": "code",
   "execution_count": null,
   "id": "e021965d",
   "metadata": {},
   "outputs": [],
   "source": [
    "old_data, new_data = check_new_df(old_sam_multi, new_sam_multi, include_cols=include_cols, \n",
    "             exclude_cols = None, old_diffs=old_diffs, new_diffs=new_diffs)"
   ]
  },
  {
   "cell_type": "code",
   "execution_count": null,
   "id": "3ad69365",
   "metadata": {},
   "outputs": [],
   "source": [
    "# Manual inspection of dataframes\n",
    "#old = pd.read_csv(old_sam_multi, sep = '\\t', skiprows=10)\n",
    "#new = pd.read_csv(new_sam_multi, sep = '\\t', skiprows=10)\n",
    "#old\n",
    "#new"
   ]
  },
  {
   "cell_type": "markdown",
   "id": "1cc89691",
   "metadata": {},
   "source": [
    "### Unique cases\n",
    "If older version of study has more sample IDs than new version:\n",
    "- If subject ID did have a sample ID before but no longer is associated with any sample IDs, then we need to orphan that subject’s genomic data. RED FLAG\n",
    "- If some sample IDs that were associated with a subject ID were removed, but the subject ID still is associated with at least one sample ID, this is okay. GREEN LIGHT"
   ]
  },
  {
   "cell_type": "markdown",
   "id": "85b13326",
   "metadata": {},
   "source": [
    "### Below is helpful code for manually troubleshooting"
   ]
  },
  {
   "cell_type": "code",
   "execution_count": null,
   "id": "a9d53c40",
   "metadata": {},
   "outputs": [],
   "source": [
    "# Merging on specific columns and getting the difference between datasets\n",
    "#diffs = newsub.merge(oldsub, how='outer', on=['SUBJECT_ID', 'SAMPLE_ID', 'BioSample Accession'], indicator=True)\n",
    "#res = diffs[diffs._merge == 'right_only']"
   ]
  }
 ],
 "metadata": {
  "kernelspec": {
   "display_name": "conda_python3",
   "language": "python",
   "name": "conda_python3"
  },
  "language_info": {
   "codemirror_mode": {
    "name": "ipython",
    "version": 3
   },
   "file_extension": ".py",
   "mimetype": "text/x-python",
   "name": "python",
   "nbconvert_exporter": "python",
   "pygments_lexer": "ipython3",
   "version": "3.6.13"
  }
 },
 "nbformat": 4,
 "nbformat_minor": 5
}
