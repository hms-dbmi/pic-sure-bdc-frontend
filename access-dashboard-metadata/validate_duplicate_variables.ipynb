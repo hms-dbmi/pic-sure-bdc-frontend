{
 "cells": [
  {
   "cell_type": "code",
   "execution_count": 1,
   "id": "9a240a5a-2997-44d4-9757-8b70bc53a240",
   "metadata": {},
   "outputs": [],
   "source": [
    "import sys\n",
    "import pandas as pd\n",
    "import matplotlib.pyplot as plt"
   ]
  },
  {
   "cell_type": "code",
   "execution_count": 2,
   "id": "b81bf4b1-696a-45c4-a69a-c7879dfeb6e7",
   "metadata": {},
   "outputs": [
    {
     "name": "stdout",
     "output_type": "stream",
     "text": [
      "Collecting git+https://github.com/hms-dbmi/pic-sure-python-client.git\n",
      "  Cloning https://github.com/hms-dbmi/pic-sure-python-client.git to /tmp/pip-req-build-0o41cgbq\n",
      "  Running command git clone --filter=blob:none --quiet https://github.com/hms-dbmi/pic-sure-python-client.git /tmp/pip-req-build-0o41cgbq\n",
      "  Resolved https://github.com/hms-dbmi/pic-sure-python-client.git to commit b1c5419290fd1d7ecc1494698caae5436fb6a2e8\n",
      "  Preparing metadata (setup.py) ... \u001b[?25ldone\n",
      "\u001b[?25hBuilding wheels for collected packages: PicSureClient\n",
      "  Building wheel for PicSureClient (setup.py) ... \u001b[?25ldone\n",
      "\u001b[?25h  Created wheel for PicSureClient: filename=PicSureClient-0.1.0-py2.py3-none-any.whl size=10646 sha256=594db768c395baa926b5b8040181ad5da873096adab063f403221db38f815036\n",
      "  Stored in directory: /tmp/pip-ephem-wheel-cache-j6z4cog3/wheels/90/65/c4/e74447484bdae71b64f3f0a500bc7b3d9d6ee7edc62ade6667\n",
      "Successfully built PicSureClient\n",
      "Installing collected packages: PicSureClient\n",
      "  Attempting uninstall: PicSureClient\n",
      "    Found existing installation: PicSureClient 0.1.0\n",
      "    Uninstalling PicSureClient-0.1.0:\n",
      "      Successfully uninstalled PicSureClient-0.1.0\n",
      "Successfully installed PicSureClient-0.1.0\n",
      "Collecting git+https://github.com/hms-dbmi/pic-sure-python-adapter-hpds.git\n",
      "  Cloning https://github.com/hms-dbmi/pic-sure-python-adapter-hpds.git to /tmp/pip-req-build-93p19fck\n",
      "  Running command git clone --filter=blob:none --quiet https://github.com/hms-dbmi/pic-sure-python-adapter-hpds.git /tmp/pip-req-build-93p19fck\n",
      "  Resolved https://github.com/hms-dbmi/pic-sure-python-adapter-hpds.git to commit b4fcbb086c2051d74ef04619c9ef3cbf1071a44e\n",
      "  Preparing metadata (setup.py) ... \u001b[?25ldone\n",
      "\u001b[?25hCollecting httplib2\n",
      "  Using cached httplib2-0.22.0-py3-none-any.whl (96 kB)\n",
      "Collecting pyparsing!=3.0.0,!=3.0.1,!=3.0.2,!=3.0.3,<4,>=2.4.2\n",
      "  Using cached pyparsing-3.0.9-py3-none-any.whl (98 kB)\n",
      "Building wheels for collected packages: PicSureHpdsLib\n",
      "  Building wheel for PicSureHpdsLib (setup.py) ... \u001b[?25ldone\n",
      "\u001b[?25h  Created wheel for PicSureHpdsLib: filename=PicSureHpdsLib-0.9.0-py2.py3-none-any.whl size=21985 sha256=bb00f9a39db05a2f82d2581f61a70be17df573e92e74a7a9af38c1a1dd349851\n",
      "  Stored in directory: /tmp/pip-ephem-wheel-cache-vd45i7cj/wheels/75/32/ca/ca45a25b13de6d9ec7a4d584241d588f730f81fadf580ff34d\n",
      "Successfully built PicSureHpdsLib\n",
      "Installing collected packages: pyparsing, httplib2, PicSureHpdsLib\n",
      "  Attempting uninstall: pyparsing\n",
      "    Found existing installation: pyparsing 3.0.9\n",
      "    Uninstalling pyparsing-3.0.9:\n",
      "      Successfully uninstalled pyparsing-3.0.9\n",
      "  Attempting uninstall: httplib2\n",
      "    Found existing installation: httplib2 0.22.0\n",
      "    Uninstalling httplib2-0.22.0:\n",
      "      Successfully uninstalled httplib2-0.22.0\n",
      "  Attempting uninstall: PicSureHpdsLib\n",
      "    Found existing installation: PicSureHpdsLib 0.9.0\n",
      "    Uninstalling PicSureHpdsLib-0.9.0:\n",
      "      Successfully uninstalled PicSureHpdsLib-0.9.0\n",
      "Successfully installed PicSureHpdsLib-0.9.0 httplib2-0.22.0 pyparsing-3.0.9\n",
      "Collecting git+https://github.com/hms-dbmi/pic-sure-biodatacatalyst-python-adapter-hpds.git\n",
      "  Cloning https://github.com/hms-dbmi/pic-sure-biodatacatalyst-python-adapter-hpds.git to /tmp/pip-req-build-jmc7f4zu\n",
      "  Running command git clone --filter=blob:none --quiet https://github.com/hms-dbmi/pic-sure-biodatacatalyst-python-adapter-hpds.git /tmp/pip-req-build-jmc7f4zu\n",
      "  Resolved https://github.com/hms-dbmi/pic-sure-biodatacatalyst-python-adapter-hpds.git to commit 5f2bf28e72b0f74217c4e6caf3f1014500af1f34\n",
      "  Preparing metadata (setup.py) ... \u001b[?25ldone\n",
      "\u001b[?25hCollecting httplib2\n",
      "  Using cached httplib2-0.22.0-py3-none-any.whl (96 kB)\n",
      "Collecting pyparsing!=3.0.0,!=3.0.1,!=3.0.2,!=3.0.3,<4,>=2.4.2\n",
      "  Using cached pyparsing-3.0.9-py3-none-any.whl (98 kB)\n",
      "Building wheels for collected packages: PicSureBdcAdapter\n",
      "  Building wheel for PicSureBdcAdapter (setup.py) ... \u001b[?25ldone\n",
      "\u001b[?25h  Created wheel for PicSureBdcAdapter: filename=PicSureBdcAdapter-1.0.0-py3-none-any.whl size=12830 sha256=ce625f7de81d407622c8fc0bb57ae35fea3b99e133cb166b4367bd622ac44b9a\n",
      "  Stored in directory: /tmp/pip-ephem-wheel-cache-dq_clkgm/wheels/e4/3c/b0/64cb444206d84ce321e561c3fdd04f9803f4798c9d759f48e7\n",
      "Successfully built PicSureBdcAdapter\n",
      "Installing collected packages: pyparsing, httplib2, PicSureBdcAdapter\n",
      "  Attempting uninstall: pyparsing\n",
      "    Found existing installation: pyparsing 3.0.9\n",
      "    Uninstalling pyparsing-3.0.9:\n",
      "      Successfully uninstalled pyparsing-3.0.9\n",
      "  Attempting uninstall: httplib2\n",
      "    Found existing installation: httplib2 0.22.0\n",
      "    Uninstalling httplib2-0.22.0:\n",
      "      Successfully uninstalled httplib2-0.22.0\n",
      "  Attempting uninstall: PicSureBdcAdapter\n",
      "    Found existing installation: PicSureBdcAdapter 1.0.0\n",
      "    Uninstalling PicSureBdcAdapter-1.0.0:\n",
      "      Successfully uninstalled PicSureBdcAdapter-1.0.0\n",
      "Successfully installed PicSureBdcAdapter-1.0.0 httplib2-0.22.0 pyparsing-3.0.9\n"
     ]
    }
   ],
   "source": [
    "!{sys.executable} -m pip install --upgrade --force-reinstall git+https://github.com/hms-dbmi/pic-sure-python-client.git\n",
    "!{sys.executable} -m pip install --upgrade --force-reinstall git+https://github.com/hms-dbmi/pic-sure-python-adapter-hpds.git\n",
    "!{sys.executable} -m pip install --upgrade --force-reinstall git+https://github.com/hms-dbmi/pic-sure-biodatacatalyst-python-adapter-hpds.git"
   ]
  },
  {
   "cell_type": "code",
   "execution_count": 3,
   "id": "791e1de0-b8a1-4670-a4ff-d42cdb76a9ef",
   "metadata": {},
   "outputs": [],
   "source": [
    "import PicSureClient\n",
    "import PicSureBdcAdapter"
   ]
  },
  {
   "cell_type": "markdown",
   "id": "7e297a22-137b-4dfb-b63b-cf489a64ded1",
   "metadata": {},
   "source": [
    "Load PIC-SURE API"
   ]
  },
  {
   "cell_type": "code",
   "execution_count": 27,
   "id": "b28f94bf-d5c0-4389-ad3f-39488aa29554",
   "metadata": {},
   "outputs": [
    {
     "name": "stdout",
     "output_type": "stream",
     "text": [
      "+--------------------------------------+------------------------------------------------------+\n",
      "|  Resource UUID                       |  Resource Name                                       |\n",
      "+--------------------------------------+------------------------------------------------------+\n",
      "| 70c837be-5ffc-11eb-ae93-0242ac130002 | open-hpds                                            |\n",
      "| ca0ad4a9-130a-3a8a-ae00-e35b07f1108b | visualization                                        |\n",
      "| 02e23f52-f354-4e8b-992c-d37c8b9ba140 | auth-hpds                                            |\n",
      "| 36363664-6231-6134-2d38-6538652d3131 | dictionary                                           |\n",
      "+--------------------------------------+------------------------------------------------------+\n"
     ]
    }
   ],
   "source": [
    "# Integration:\n",
    "#PICSURE_network_URL = \"https://biodatacatalyst.integration.hms.harvard.edu/picsure\"\n",
    "# Production:\n",
    "PICSURE_network_URL = \"https://picsure.biodatacatalyst.nhlbi.nih.gov/picsure\"\n",
    "token_file = \"token.txt\"\n",
    "\n",
    "with open(token_file, \"r\") as f:\n",
    "    my_token = f.read()\n",
    "    \n",
    "bdc = PicSureBdcAdapter.Adapter(PICSURE_network_URL, my_token)"
   ]
  },
  {
   "cell_type": "code",
   "execution_count": 28,
   "id": "b19ef085-a2e4-4a45-a58b-fff2ad82c1e9",
   "metadata": {},
   "outputs": [],
   "source": [
    "dictionary = bdc.useDictionary().dictionary() # Set up the dictionary\n",
    "all_vars = dictionary.find('phs000287') # Fill in with phs number of interest\n",
    "all_variables = all_vars.dataframe() # Retrieve all variables you have access to"
   ]
  },
  {
   "cell_type": "code",
   "execution_count": 30,
   "id": "9ed546f2-fd7c-4134-a236-93dcf193edb7",
   "metadata": {},
   "outputs": [],
   "source": [
    "#all_variables#[\"derived_var_name\"]"
   ]
  },
  {
   "cell_type": "code",
   "execution_count": 31,
   "id": "06854acf-a7e8-42ce-b668-01474aba6791",
   "metadata": {},
   "outputs": [
    {
     "data": {
      "text/plain": [
       "6497"
      ]
     },
     "execution_count": 31,
     "metadata": {},
     "output_type": "execute_result"
    }
   ],
   "source": [
    "ids = all_variables[\"derived_var_name\"]\n",
    "pd.unique(ids).size"
   ]
  },
  {
   "cell_type": "code",
   "execution_count": 32,
   "id": "c5812798-cc1c-4053-8e5a-a6d344e8c0f6",
   "metadata": {},
   "outputs": [],
   "source": [
    "dup_vars_series = ids.value_counts().loc[lambda x : x > 1]\n",
    "dup_vars_df = pd.DataFrame({'id':dup_vars_series.index, 'count':dup_vars_series.values})"
   ]
  },
  {
   "cell_type": "code",
   "execution_count": null,
   "id": "815a7164-be90-48f5-a71b-a6300b87a401",
   "metadata": {},
   "outputs": [],
   "source": []
  },
  {
   "cell_type": "code",
   "execution_count": 46,
   "id": "211eb67d-dc6f-49d4-be00-4429cec01328",
   "metadata": {},
   "outputs": [
    {
     "data": {
      "text/html": [
       "<div>\n",
       "<style scoped>\n",
       "    .dataframe tbody tr th:only-of-type {\n",
       "        vertical-align: middle;\n",
       "    }\n",
       "\n",
       "    .dataframe tbody tr th {\n",
       "        vertical-align: top;\n",
       "    }\n",
       "\n",
       "    .dataframe thead th {\n",
       "        text-align: right;\n",
       "    }\n",
       "</style>\n",
       "<table border=\"1\" class=\"dataframe\">\n",
       "  <thead>\n",
       "    <tr style=\"text-align: right;\">\n",
       "      <th></th>\n",
       "      <th>derived_var_name</th>\n",
       "      <th>dtId</th>\n",
       "      <th>varId</th>\n",
       "      <th>is_categorical</th>\n",
       "      <th>is_continuous</th>\n",
       "    </tr>\n",
       "  </thead>\n",
       "  <tbody>\n",
       "    <tr>\n",
       "      <th>0</th>\n",
       "      <td>PERSTAT</td>\n",
       "      <td>pht001452</td>\n",
       "      <td>phv00100290</td>\n",
       "      <td>False</td>\n",
       "      <td>True</td>\n",
       "    </tr>\n",
       "    <tr>\n",
       "      <th>1</th>\n",
       "      <td>PERSTAT</td>\n",
       "      <td>pht001466</td>\n",
       "      <td>phv00100809</td>\n",
       "      <td>True</td>\n",
       "      <td>False</td>\n",
       "    </tr>\n",
       "    <tr>\n",
       "      <th>2</th>\n",
       "      <td>PERSTAT</td>\n",
       "      <td>pht001470</td>\n",
       "      <td>phv00101122</td>\n",
       "      <td>True</td>\n",
       "      <td>False</td>\n",
       "    </tr>\n",
       "    <tr>\n",
       "      <th>3</th>\n",
       "      <td>PERSTAT</td>\n",
       "      <td>pht001472</td>\n",
       "      <td>phv00101232</td>\n",
       "      <td>True</td>\n",
       "      <td>False</td>\n",
       "    </tr>\n",
       "    <tr>\n",
       "      <th>4</th>\n",
       "      <td>PERSTAT</td>\n",
       "      <td>pht001473</td>\n",
       "      <td>phv00101234</td>\n",
       "      <td>True</td>\n",
       "      <td>False</td>\n",
       "    </tr>\n",
       "    <tr>\n",
       "      <th>...</th>\n",
       "      <td>...</td>\n",
       "      <td>...</td>\n",
       "      <td>...</td>\n",
       "      <td>...</td>\n",
       "      <td>...</td>\n",
       "    </tr>\n",
       "    <tr>\n",
       "      <th>809</th>\n",
       "      <td>TTLINT59</td>\n",
       "      <td>pht001493</td>\n",
       "      <td>phv00108714</td>\n",
       "      <td>False</td>\n",
       "      <td>True</td>\n",
       "    </tr>\n",
       "    <tr>\n",
       "      <th>810</th>\n",
       "      <td>mxoanbp</td>\n",
       "      <td>pht003700</td>\n",
       "      <td>phv00199174</td>\n",
       "      <td>True</td>\n",
       "      <td>False</td>\n",
       "    </tr>\n",
       "    <tr>\n",
       "      <th>811</th>\n",
       "      <td>mxoanbp</td>\n",
       "      <td>pht003699</td>\n",
       "      <td>phv00197974</td>\n",
       "      <td>False</td>\n",
       "      <td>True</td>\n",
       "    </tr>\n",
       "    <tr>\n",
       "      <th>812</th>\n",
       "      <td>CAUSE80</td>\n",
       "      <td>pht001464</td>\n",
       "      <td>phv00100775</td>\n",
       "      <td>True</td>\n",
       "      <td>False</td>\n",
       "    </tr>\n",
       "    <tr>\n",
       "      <th>813</th>\n",
       "      <td>CAUSE80</td>\n",
       "      <td>pht001466</td>\n",
       "      <td>phv00100832</td>\n",
       "      <td>False</td>\n",
       "      <td>True</td>\n",
       "    </tr>\n",
       "  </tbody>\n",
       "</table>\n",
       "<p>814 rows × 5 columns</p>\n",
       "</div>"
      ],
      "text/plain": [
       "    derived_var_name       dtId        varId  is_categorical  is_continuous\n",
       "0            PERSTAT  pht001452  phv00100290           False           True\n",
       "1            PERSTAT  pht001466  phv00100809            True          False\n",
       "2            PERSTAT  pht001470  phv00101122            True          False\n",
       "3            PERSTAT  pht001472  phv00101232            True          False\n",
       "4            PERSTAT  pht001473  phv00101234            True          False\n",
       "..               ...        ...          ...             ...            ...\n",
       "809         TTLINT59  pht001493  phv00108714           False           True\n",
       "810          mxoanbp  pht003700  phv00199174            True          False\n",
       "811          mxoanbp  pht003699  phv00197974           False           True\n",
       "812          CAUSE80  pht001464  phv00100775            True          False\n",
       "813          CAUSE80  pht001466  phv00100832           False           True\n",
       "\n",
       "[814 rows x 5 columns]"
      ]
     },
     "execution_count": 46,
     "metadata": {},
     "output_type": "execute_result"
    }
   ],
   "source": [
    "issues_df = pd.DataFrame()\n",
    "\n",
    "for id in dup_vars_df['id']:\n",
    "    #print(id)\n",
    "    var_df = all_variables.loc[all_variables['derived_var_name'] == id]\n",
    "    if var_df['is_categorical'].unique().size > 1 or var_df['is_continuous'].unique().size > 1 :\n",
    "        #print(id)\n",
    "        issues_df = pd.concat([issues_df, var_df[['derived_var_name','dtId','varId','is_categorical','is_continuous']]],ignore_index=True)\n",
    "        \n",
    "issues_df"
   ]
  },
  {
   "cell_type": "code",
   "execution_count": 49,
   "id": "8a3916a4-58fd-4a70-89de-1443af4189ad",
   "metadata": {},
   "outputs": [],
   "source": [
    "issues_df.to_csv(\"variable_inconsistencies.csv\",index=False)"
   ]
  },
  {
   "cell_type": "code",
   "execution_count": null,
   "id": "eb781382-5338-43bb-b827-979468471a50",
   "metadata": {},
   "outputs": [],
   "source": []
  }
 ],
 "metadata": {
  "kernelspec": {
   "display_name": "Python 3 (ipykernel)",
   "language": "python",
   "name": "python3"
  },
  "language_info": {
   "codemirror_mode": {
    "name": "ipython",
    "version": 3
   },
   "file_extension": ".py",
   "mimetype": "text/x-python",
   "name": "python",
   "nbconvert_exporter": "python",
   "pygments_lexer": "ipython3",
   "version": "3.10.5"
  }
 },
 "nbformat": 4,
 "nbformat_minor": 5
}
